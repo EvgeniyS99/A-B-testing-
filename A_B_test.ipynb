{
  "nbformat": 4,
  "nbformat_minor": 0,
  "metadata": {
    "colab": {
      "provenance": []
    },
    "kernelspec": {
      "name": "python3",
      "display_name": "Python 3"
    },
    "language_info": {
      "name": "python"
    }
  },
  "cells": [
    {
      "cell_type": "code",
      "execution_count": 4,
      "metadata": {
        "id": "9co-dynS5Kdl"
      },
      "outputs": [],
      "source": [
        "import pandas as pd\n",
        "import pandahouse as ph\n",
        "import numpy as np\n",
        "import seaborn as sns\n",
        "import scipy.stats as st\n",
        "import matplotlib.pyplot as plt\n",
        "from typing import Tuple"
      ]
    },
    {
      "cell_type": "code",
      "source": [
        "connection = {\n",
        "    'host': 'https://clickhouse.lab.karpov.courses',\n",
        "    'password': 'dpo_python_2020',\n",
        "    'user': 'student',\n",
        "    'database': 'simulator_20221020'\n",
        "}"
      ],
      "metadata": {
        "id": "otjb4Qon5RDM"
      },
      "execution_count": null,
      "outputs": []
    },
    {
      "cell_type": "code",
      "source": [
        "q = \"\"\"\n",
        "select user_id,\n",
        "exp_group, \n",
        "countIf(action='like') as likes,\n",
        "countIf(action='view') as views, \n",
        "likes / views as ctr\n",
        "from {db}.feed_actions\n",
        "where toDate(time) >= '2022-10-03' and toDate(time) <= '2022-10-09'\n",
        "and exp_group in (1, 2)\n",
        "group by exp_group, user_id\n",
        "\"\"\""
      ],
      "metadata": {
        "id": "1uwpgWCC5Tj8"
      },
      "execution_count": null,
      "outputs": []
    },
    {
      "cell_type": "code",
      "source": [
        "df_ab = ph.read_clickhouse(q, connection=connection)"
      ],
      "metadata": {
        "id": "wOy0YV7V5T7j"
      },
      "execution_count": null,
      "outputs": []
    },
    {
      "cell_type": "code",
      "source": [
        "df_ab"
      ],
      "metadata": {
        "colab": {
          "base_uri": "https://localhost:8080/",
          "height": 424
        },
        "id": "4Puog3gHu-VR",
        "outputId": "93262876-5aad-4566-8e43-e6ac743245dd"
      },
      "execution_count": null,
      "outputs": [
        {
          "output_type": "execute_result",
          "data": {
            "text/plain": [
              "       user_id  exp_group  likes  views       ctr\n",
              "0       109963          1      3     15  0.200000\n",
              "1        26117          1     32    141  0.226950\n",
              "2       138232          1     18     73  0.246575\n",
              "3        26295          1     33    122  0.270492\n",
              "4        18392          1      7     32  0.218750\n",
              "...        ...        ...    ...    ...       ...\n",
              "20026   132567          1     45    296  0.152027\n",
              "20027    30872          1     11     59  0.186441\n",
              "20028    25383          2     42    127  0.330709\n",
              "20029   139020          2     24    114  0.210526\n",
              "20030    17310          2      9     82  0.109756\n",
              "\n",
              "[20031 rows x 5 columns]"
            ],
            "text/html": [
              "\n",
              "  <div id=\"df-56cee004-680d-4fb9-9492-ffe8df2aa2a3\">\n",
              "    <div class=\"colab-df-container\">\n",
              "      <div>\n",
              "<style scoped>\n",
              "    .dataframe tbody tr th:only-of-type {\n",
              "        vertical-align: middle;\n",
              "    }\n",
              "\n",
              "    .dataframe tbody tr th {\n",
              "        vertical-align: top;\n",
              "    }\n",
              "\n",
              "    .dataframe thead th {\n",
              "        text-align: right;\n",
              "    }\n",
              "</style>\n",
              "<table border=\"1\" class=\"dataframe\">\n",
              "  <thead>\n",
              "    <tr style=\"text-align: right;\">\n",
              "      <th></th>\n",
              "      <th>user_id</th>\n",
              "      <th>exp_group</th>\n",
              "      <th>likes</th>\n",
              "      <th>views</th>\n",
              "      <th>ctr</th>\n",
              "    </tr>\n",
              "  </thead>\n",
              "  <tbody>\n",
              "    <tr>\n",
              "      <th>0</th>\n",
              "      <td>109963</td>\n",
              "      <td>1</td>\n",
              "      <td>3</td>\n",
              "      <td>15</td>\n",
              "      <td>0.200000</td>\n",
              "    </tr>\n",
              "    <tr>\n",
              "      <th>1</th>\n",
              "      <td>26117</td>\n",
              "      <td>1</td>\n",
              "      <td>32</td>\n",
              "      <td>141</td>\n",
              "      <td>0.226950</td>\n",
              "    </tr>\n",
              "    <tr>\n",
              "      <th>2</th>\n",
              "      <td>138232</td>\n",
              "      <td>1</td>\n",
              "      <td>18</td>\n",
              "      <td>73</td>\n",
              "      <td>0.246575</td>\n",
              "    </tr>\n",
              "    <tr>\n",
              "      <th>3</th>\n",
              "      <td>26295</td>\n",
              "      <td>1</td>\n",
              "      <td>33</td>\n",
              "      <td>122</td>\n",
              "      <td>0.270492</td>\n",
              "    </tr>\n",
              "    <tr>\n",
              "      <th>4</th>\n",
              "      <td>18392</td>\n",
              "      <td>1</td>\n",
              "      <td>7</td>\n",
              "      <td>32</td>\n",
              "      <td>0.218750</td>\n",
              "    </tr>\n",
              "    <tr>\n",
              "      <th>...</th>\n",
              "      <td>...</td>\n",
              "      <td>...</td>\n",
              "      <td>...</td>\n",
              "      <td>...</td>\n",
              "      <td>...</td>\n",
              "    </tr>\n",
              "    <tr>\n",
              "      <th>20026</th>\n",
              "      <td>132567</td>\n",
              "      <td>1</td>\n",
              "      <td>45</td>\n",
              "      <td>296</td>\n",
              "      <td>0.152027</td>\n",
              "    </tr>\n",
              "    <tr>\n",
              "      <th>20027</th>\n",
              "      <td>30872</td>\n",
              "      <td>1</td>\n",
              "      <td>11</td>\n",
              "      <td>59</td>\n",
              "      <td>0.186441</td>\n",
              "    </tr>\n",
              "    <tr>\n",
              "      <th>20028</th>\n",
              "      <td>25383</td>\n",
              "      <td>2</td>\n",
              "      <td>42</td>\n",
              "      <td>127</td>\n",
              "      <td>0.330709</td>\n",
              "    </tr>\n",
              "    <tr>\n",
              "      <th>20029</th>\n",
              "      <td>139020</td>\n",
              "      <td>2</td>\n",
              "      <td>24</td>\n",
              "      <td>114</td>\n",
              "      <td>0.210526</td>\n",
              "    </tr>\n",
              "    <tr>\n",
              "      <th>20030</th>\n",
              "      <td>17310</td>\n",
              "      <td>2</td>\n",
              "      <td>9</td>\n",
              "      <td>82</td>\n",
              "      <td>0.109756</td>\n",
              "    </tr>\n",
              "  </tbody>\n",
              "</table>\n",
              "<p>20031 rows × 5 columns</p>\n",
              "</div>\n",
              "      <button class=\"colab-df-convert\" onclick=\"convertToInteractive('df-56cee004-680d-4fb9-9492-ffe8df2aa2a3')\"\n",
              "              title=\"Convert this dataframe to an interactive table.\"\n",
              "              style=\"display:none;\">\n",
              "        \n",
              "  <svg xmlns=\"http://www.w3.org/2000/svg\" height=\"24px\"viewBox=\"0 0 24 24\"\n",
              "       width=\"24px\">\n",
              "    <path d=\"M0 0h24v24H0V0z\" fill=\"none\"/>\n",
              "    <path d=\"M18.56 5.44l.94 2.06.94-2.06 2.06-.94-2.06-.94-.94-2.06-.94 2.06-2.06.94zm-11 1L8.5 8.5l.94-2.06 2.06-.94-2.06-.94L8.5 2.5l-.94 2.06-2.06.94zm10 10l.94 2.06.94-2.06 2.06-.94-2.06-.94-.94-2.06-.94 2.06-2.06.94z\"/><path d=\"M17.41 7.96l-1.37-1.37c-.4-.4-.92-.59-1.43-.59-.52 0-1.04.2-1.43.59L10.3 9.45l-7.72 7.72c-.78.78-.78 2.05 0 2.83L4 21.41c.39.39.9.59 1.41.59.51 0 1.02-.2 1.41-.59l7.78-7.78 2.81-2.81c.8-.78.8-2.07 0-2.86zM5.41 20L4 18.59l7.72-7.72 1.47 1.35L5.41 20z\"/>\n",
              "  </svg>\n",
              "      </button>\n",
              "      \n",
              "  <style>\n",
              "    .colab-df-container {\n",
              "      display:flex;\n",
              "      flex-wrap:wrap;\n",
              "      gap: 12px;\n",
              "    }\n",
              "\n",
              "    .colab-df-convert {\n",
              "      background-color: #E8F0FE;\n",
              "      border: none;\n",
              "      border-radius: 50%;\n",
              "      cursor: pointer;\n",
              "      display: none;\n",
              "      fill: #1967D2;\n",
              "      height: 32px;\n",
              "      padding: 0 0 0 0;\n",
              "      width: 32px;\n",
              "    }\n",
              "\n",
              "    .colab-df-convert:hover {\n",
              "      background-color: #E2EBFA;\n",
              "      box-shadow: 0px 1px 2px rgba(60, 64, 67, 0.3), 0px 1px 3px 1px rgba(60, 64, 67, 0.15);\n",
              "      fill: #174EA6;\n",
              "    }\n",
              "\n",
              "    [theme=dark] .colab-df-convert {\n",
              "      background-color: #3B4455;\n",
              "      fill: #D2E3FC;\n",
              "    }\n",
              "\n",
              "    [theme=dark] .colab-df-convert:hover {\n",
              "      background-color: #434B5C;\n",
              "      box-shadow: 0px 1px 3px 1px rgba(0, 0, 0, 0.15);\n",
              "      filter: drop-shadow(0px 1px 2px rgba(0, 0, 0, 0.3));\n",
              "      fill: #FFFFFF;\n",
              "    }\n",
              "  </style>\n",
              "\n",
              "      <script>\n",
              "        const buttonEl =\n",
              "          document.querySelector('#df-56cee004-680d-4fb9-9492-ffe8df2aa2a3 button.colab-df-convert');\n",
              "        buttonEl.style.display =\n",
              "          google.colab.kernel.accessAllowed ? 'block' : 'none';\n",
              "\n",
              "        async function convertToInteractive(key) {\n",
              "          const element = document.querySelector('#df-56cee004-680d-4fb9-9492-ffe8df2aa2a3');\n",
              "          const dataTable =\n",
              "            await google.colab.kernel.invokeFunction('convertToInteractive',\n",
              "                                                     [key], {});\n",
              "          if (!dataTable) return;\n",
              "\n",
              "          const docLinkHtml = 'Like what you see? Visit the ' +\n",
              "            '<a target=\"_blank\" href=https://colab.research.google.com/notebooks/data_table.ipynb>data table notebook</a>'\n",
              "            + ' to learn more about interactive tables.';\n",
              "          element.innerHTML = '';\n",
              "          dataTable['output_type'] = 'display_data';\n",
              "          await google.colab.output.renderOutput(dataTable, element);\n",
              "          const docLink = document.createElement('div');\n",
              "          docLink.innerHTML = docLinkHtml;\n",
              "          element.appendChild(docLink);\n",
              "        }\n",
              "      </script>\n",
              "    </div>\n",
              "  </div>\n",
              "  "
            ]
          },
          "metadata": {},
          "execution_count": 27
        }
      ]
    },
    {
      "cell_type": "code",
      "source": [
        "group_a = df_ab[df_ab['exp_group'] == 1]['ctr'] # контрольная группа\n",
        "group_b = df_ab[df_ab['exp_group'] == 2]['ctr'] # экпериментальная группа"
      ],
      "metadata": {
        "id": "cbF2mbwP5X2e"
      },
      "execution_count": null,
      "outputs": []
    },
    {
      "cell_type": "code",
      "source": [
        "sns.histplot(data=df_ab,\n",
        "             x='ctr',\n",
        "             hue='exp_group',\n",
        "             palette=['g', 'b'],\n",
        "             kde=False,\n",
        "             alpha=0.5);"
      ],
      "metadata": {
        "colab": {
          "base_uri": "https://localhost:8080/",
          "height": 611
        },
        "id": "E1vKWCQ8e_d5",
        "outputId": "af8ded04-3b1e-4dd4-fd50-7f5c82871c4f"
      },
      "execution_count": null,
      "outputs": [
        {
          "output_type": "display_data",
          "data": {
            "text/plain": [
              "<Figure size 720x720 with 1 Axes>"
            ],
            "image/png": "[encoded data removed]"
          },
          "metadata": {}
        }
      ]
    },
    {
      "cell_type": "markdown",
      "source": [
        "Распределение ctr первой группы напоминает нормальное распределение. \n",
        "\n",
        "Распределение ctr второй группы не похоже на нормальное, т.к. оно имеет две моды. Такая форма распределения может быть вызвана тем, что после выкатывания нового алгоритма пользователи поделились на тех, кому не понравилась новая рекомендательная система, и они стали лайкать меньше. И на тех, кому новая система понравилось, и их CTR стал в среднем больше по сравнению со среднем CTR в контрольной группе. "
      ],
      "metadata": {
        "id": "PLpCVAjdfkx0"
      }
    },
    {
      "cell_type": "markdown",
      "source": [
        "## Testing "
      ],
      "metadata": {
        "id": "iFC1d4EjgJuH"
      }
    },
    {
      "cell_type": "markdown",
      "source": [
        "### ttest"
      ],
      "metadata": {
        "id": "v7QSuiBCvIdh"
      }
    },
    {
      "cell_type": "code",
      "source": [
        "st.ttest_ind(group_a, group_b, equal_var=False)"
      ],
      "metadata": {
        "colab": {
          "base_uri": "https://localhost:8080/"
        },
        "id": "vNhr7EhYvKaa",
        "outputId": "4b7d5ce4-78ee-4b95-c059-54f1bef5662f"
      },
      "execution_count": null,
      "outputs": [
        {
          "output_type": "execute_result",
          "data": {
            "text/plain": [
              "Ttest_indResult(statistic=0.7094392041270485, pvalue=0.4780623130874935)"
            ]
          },
          "metadata": {},
          "execution_count": 29
        }
      ]
    },
    {
      "cell_type": "code",
      "source": [
        "group_a.mean(), group_b.mean()"
      ],
      "metadata": {
        "colab": {
          "base_uri": "https://localhost:8080/"
        },
        "id": "KZ7YpvKBhvFL",
        "outputId": "f0b0aa57-1361-42f2-a932-57a1a3b2aba1"
      },
      "execution_count": null,
      "outputs": [
        {
          "output_type": "execute_result",
          "data": {
            "text/plain": [
              "(0.21560459841296287, 0.21441927347479375)"
            ]
          },
          "metadata": {},
          "execution_count": 64
        }
      ]
    },
    {
      "cell_type": "markdown",
      "source": [
        "### Mann-Witney test"
      ],
      "metadata": {
        "id": "KnHqjdwLvoEM"
      }
    },
    {
      "cell_type": "code",
      "source": [
        "st.mannwhitneyu(group_a, group_b, alternative='two-sided')"
      ],
      "metadata": {
        "colab": {
          "base_uri": "https://localhost:8080/"
        },
        "id": "numNu6CAvp2Y",
        "outputId": "f6110215-c40c-45bf-d02f-8567f9f48f82"
      },
      "execution_count": null,
      "outputs": [
        {
          "output_type": "execute_result",
          "data": {
            "text/plain": [
              "MannwhitneyuResult(statistic=56601260.5, pvalue=6.0376484617779035e-56)"
            ]
          },
          "metadata": {},
          "execution_count": 30
        }
      ]
    },
    {
      "cell_type": "markdown",
      "source": [
        "**Вывод:**\n",
        "\n",
        "t-критерий Стьдента не показывает стат. значимое различие, т.к. p-value > 0.05. Такой результат вызван тем, что распределение ctr экспериментальной группы не является нормальным, и использование данного теста было некорректно.\n",
        "\n",
        "Тест Манна-Уитни показывает стат. значимые различия, что в целом соответствует представленным распределениям"
      ],
      "metadata": {
        "id": "Ahvx6ZLl10Z5"
      }
    },
    {
      "cell_type": "markdown",
      "source": [
        "### Smoothed CTR"
      ],
      "metadata": {
        "id": "tld5Jz0AwSnG"
      }
    },
    {
      "cell_type": "code",
      "source": [
        "def get_smoothed_ctr(user_likes: pd.Series,\n",
        "                     user_views: pd.Series,\n",
        "                     global_ctr: int,\n",
        "                     alpha: int = 5\n",
        ") -> pd.Series:\n",
        "    smoothed_ctr = (user_likes +  alpha * global_ctr) / (user_views + alpha)\n",
        "    return smoothed_ctr"
      ],
      "metadata": {
        "id": "0VMnZtH3wT4_"
      },
      "execution_count": null,
      "outputs": []
    },
    {
      "cell_type": "code",
      "source": [
        "# считаем общий ctr в контрольной и тестовой группах\n",
        "global_ctr_1 = df_ab[df_ab['exp_group'] == 1]['likes'].sum() / df_ab[df_ab['exp_group'] == 1]['views'].sum()\n",
        "global_ctr_2 = df_ab[df_ab['exp_group'] == 2]['likes'].sum() / df_ab[df_ab['exp_group'] == 2]['views'].sum()"
      ],
      "metadata": {
        "id": "0sgRa29bZIvR"
      },
      "execution_count": null,
      "outputs": []
    },
    {
      "cell_type": "code",
      "source": [
        "global_ctr_1, global_ctr_2"
      ],
      "metadata": {
        "colab": {
          "base_uri": "https://localhost:8080/"
        },
        "id": "X3aVLhkTZIxg",
        "outputId": "e5d3f27d-801b-45c7-e752-0fef7811087b"
      },
      "execution_count": null,
      "outputs": [
        {
          "output_type": "execute_result",
          "data": {
            "text/plain": [
              "(0.20802680490126244, 0.1980601844115994)"
            ]
          },
          "metadata": {},
          "execution_count": 35
        }
      ]
    },
    {
      "cell_type": "code",
      "source": [
        "group_1 = df_ab[df_ab['exp_group'] == 1]\n",
        "group_2 = df_ab[df_ab['exp_group'] == 2]"
      ],
      "metadata": {
        "id": "hcrgfeRXaITw"
      },
      "execution_count": null,
      "outputs": []
    },
    {
      "cell_type": "code",
      "source": [
        "group_1['smoothed_ctr'] = df_ab[df_ab['exp_group'] == 1].apply(lambda x: get_smoothed_ctr(x['likes'], x['views'], global_ctr_1), axis=1)\n",
        "group_2['smoothed_ctr'] = df_ab[df_ab['exp_group'] == 2].apply(lambda x: get_smoothed_ctr(x['likes'], x['views'], global_ctr_2), axis=1)"
      ],
      "metadata": {
        "id": "Gbt217Bda40Q"
      },
      "execution_count": null,
      "outputs": []
    },
    {
      "cell_type": "code",
      "source": [
        "group_1"
      ],
      "metadata": {
        "colab": {
          "base_uri": "https://localhost:8080/",
          "height": 424
        },
        "id": "T1urakZnbtGu",
        "outputId": "0640dade-fe8b-4ed3-eee3-849f3b22b875"
      },
      "execution_count": null,
      "outputs": [
        {
          "output_type": "execute_result",
          "data": {
            "text/plain": [
              "       user_id  exp_group  likes  views       ctr  smoothed_ctr\n",
              "0       109963          1      3     15  0.200000      0.202007\n",
              "1        26117          1     32    141  0.226950      0.226302\n",
              "2       138232          1     18     73  0.246575      0.244104\n",
              "3        26295          1     33    122  0.270492      0.268033\n",
              "4        18392          1      7     32  0.218750      0.217301\n",
              "...        ...        ...    ...    ...       ...           ...\n",
              "20020    31540          1      8     45  0.177778      0.180803\n",
              "20021    23359          1     23     91  0.252747      0.250418\n",
              "20024   110956          1      3     16  0.187500      0.192387\n",
              "20026   132567          1     45    296  0.152027      0.152957\n",
              "20027    30872          1     11     59  0.186441      0.188127\n",
              "\n",
              "[10079 rows x 6 columns]"
            ],
            "text/html": [
              "\n",
              "  <div id=\"df-29302bc5-271c-4050-a137-c297b3d8652f\">\n",
              "    <div class=\"colab-df-container\">\n",
              "      <div>\n",
              "<style scoped>\n",
              "    .dataframe tbody tr th:only-of-type {\n",
              "        vertical-align: middle;\n",
              "    }\n",
              "\n",
              "    .dataframe tbody tr th {\n",
              "        vertical-align: top;\n",
              "    }\n",
              "\n",
              "    .dataframe thead th {\n",
              "        text-align: right;\n",
              "    }\n",
              "</style>\n",
              "<table border=\"1\" class=\"dataframe\">\n",
              "  <thead>\n",
              "    <tr style=\"text-align: right;\">\n",
              "      <th></th>\n",
              "      <th>user_id</th>\n",
              "      <th>exp_group</th>\n",
              "      <th>likes</th>\n",
              "      <th>views</th>\n",
              "      <th>ctr</th>\n",
              "      <th>smoothed_ctr</th>\n",
              "    </tr>\n",
              "  </thead>\n",
              "  <tbody>\n",
              "    <tr>\n",
              "      <th>0</th>\n",
              "      <td>109963</td>\n",
              "      <td>1</td>\n",
              "      <td>3</td>\n",
              "      <td>15</td>\n",
              "      <td>0.200000</td>\n",
              "      <td>0.202007</td>\n",
              "    </tr>\n",
              "    <tr>\n",
              "      <th>1</th>\n",
              "      <td>26117</td>\n",
              "      <td>1</td>\n",
              "      <td>32</td>\n",
              "      <td>141</td>\n",
              "      <td>0.226950</td>\n",
              "      <td>0.226302</td>\n",
              "    </tr>\n",
              "    <tr>\n",
              "      <th>2</th>\n",
              "      <td>138232</td>\n",
              "      <td>1</td>\n",
              "      <td>18</td>\n",
              "      <td>73</td>\n",
              "      <td>0.246575</td>\n",
              "      <td>0.244104</td>\n",
              "    </tr>\n",
              "    <tr>\n",
              "      <th>3</th>\n",
              "      <td>26295</td>\n",
              "      <td>1</td>\n",
              "      <td>33</td>\n",
              "      <td>122</td>\n",
              "      <td>0.270492</td>\n",
              "      <td>0.268033</td>\n",
              "    </tr>\n",
              "    <tr>\n",
              "      <th>4</th>\n",
              "      <td>18392</td>\n",
              "      <td>1</td>\n",
              "      <td>7</td>\n",
              "      <td>32</td>\n",
              "      <td>0.218750</td>\n",
              "      <td>0.217301</td>\n",
              "    </tr>\n",
              "    <tr>\n",
              "      <th>...</th>\n",
              "      <td>...</td>\n",
              "      <td>...</td>\n",
              "      <td>...</td>\n",
              "      <td>...</td>\n",
              "      <td>...</td>\n",
              "      <td>...</td>\n",
              "    </tr>\n",
              "    <tr>\n",
              "      <th>20020</th>\n",
              "      <td>31540</td>\n",
              "      <td>1</td>\n",
              "      <td>8</td>\n",
              "      <td>45</td>\n",
              "      <td>0.177778</td>\n",
              "      <td>0.180803</td>\n",
              "    </tr>\n",
              "    <tr>\n",
              "      <th>20021</th>\n",
              "      <td>23359</td>\n",
              "      <td>1</td>\n",
              "      <td>23</td>\n",
              "      <td>91</td>\n",
              "      <td>0.252747</td>\n",
              "      <td>0.250418</td>\n",
              "    </tr>\n",
              "    <tr>\n",
              "      <th>20024</th>\n",
              "      <td>110956</td>\n",
              "      <td>1</td>\n",
              "      <td>3</td>\n",
              "      <td>16</td>\n",
              "      <td>0.187500</td>\n",
              "      <td>0.192387</td>\n",
              "    </tr>\n",
              "    <tr>\n",
              "      <th>20026</th>\n",
              "      <td>132567</td>\n",
              "      <td>1</td>\n",
              "      <td>45</td>\n",
              "      <td>296</td>\n",
              "      <td>0.152027</td>\n",
              "      <td>0.152957</td>\n",
              "    </tr>\n",
              "    <tr>\n",
              "      <th>20027</th>\n",
              "      <td>30872</td>\n",
              "      <td>1</td>\n",
              "      <td>11</td>\n",
              "      <td>59</td>\n",
              "      <td>0.186441</td>\n",
              "      <td>0.188127</td>\n",
              "    </tr>\n",
              "  </tbody>\n",
              "</table>\n",
              "<p>10079 rows × 6 columns</p>\n",
              "</div>\n",
              "      <button class=\"colab-df-convert\" onclick=\"convertToInteractive('df-29302bc5-271c-4050-a137-c297b3d8652f')\"\n",
              "              title=\"Convert this dataframe to an interactive table.\"\n",
              "              style=\"display:none;\">\n",
              "        \n",
              "  <svg xmlns=\"http://www.w3.org/2000/svg\" height=\"24px\"viewBox=\"0 0 24 24\"\n",
              "       width=\"24px\">\n",
              "    <path d=\"M0 0h24v24H0V0z\" fill=\"none\"/>\n",
              "    <path d=\"M18.56 5.44l.94 2.06.94-2.06 2.06-.94-2.06-.94-.94-2.06-.94 2.06-2.06.94zm-11 1L8.5 8.5l.94-2.06 2.06-.94-2.06-.94L8.5 2.5l-.94 2.06-2.06.94zm10 10l.94 2.06.94-2.06 2.06-.94-2.06-.94-.94-2.06-.94 2.06-2.06.94z\"/><path d=\"M17.41 7.96l-1.37-1.37c-.4-.4-.92-.59-1.43-.59-.52 0-1.04.2-1.43.59L10.3 9.45l-7.72 7.72c-.78.78-.78 2.05 0 2.83L4 21.41c.39.39.9.59 1.41.59.51 0 1.02-.2 1.41-.59l7.78-7.78 2.81-2.81c.8-.78.8-2.07 0-2.86zM5.41 20L4 18.59l7.72-7.72 1.47 1.35L5.41 20z\"/>\n",
              "  </svg>\n",
              "      </button>\n",
              "      \n",
              "  <style>\n",
              "    .colab-df-container {\n",
              "      display:flex;\n",
              "      flex-wrap:wrap;\n",
              "      gap: 12px;\n",
              "    }\n",
              "\n",
              "    .colab-df-convert {\n",
              "      background-color: #E8F0FE;\n",
              "      border: none;\n",
              "      border-radius: 50%;\n",
              "      cursor: pointer;\n",
              "      display: none;\n",
              "      fill: #1967D2;\n",
              "      height: 32px;\n",
              "      padding: 0 0 0 0;\n",
              "      width: 32px;\n",
              "    }\n",
              "\n",
              "    .colab-df-convert:hover {\n",
              "      background-color: #E2EBFA;\n",
              "      box-shadow: 0px 1px 2px rgba(60, 64, 67, 0.3), 0px 1px 3px 1px rgba(60, 64, 67, 0.15);\n",
              "      fill: #174EA6;\n",
              "    }\n",
              "\n",
              "    [theme=dark] .colab-df-convert {\n",
              "      background-color: #3B4455;\n",
              "      fill: #D2E3FC;\n",
              "    }\n",
              "\n",
              "    [theme=dark] .colab-df-convert:hover {\n",
              "      background-color: #434B5C;\n",
              "      box-shadow: 0px 1px 3px 1px rgba(0, 0, 0, 0.15);\n",
              "      filter: drop-shadow(0px 1px 2px rgba(0, 0, 0, 0.3));\n",
              "      fill: #FFFFFF;\n",
              "    }\n",
              "  </style>\n",
              "\n",
              "      <script>\n",
              "        const buttonEl =\n",
              "          document.querySelector('#df-29302bc5-271c-4050-a137-c297b3d8652f button.colab-df-convert');\n",
              "        buttonEl.style.display =\n",
              "          google.colab.kernel.accessAllowed ? 'block' : 'none';\n",
              "\n",
              "        async function convertToInteractive(key) {\n",
              "          const element = document.querySelector('#df-29302bc5-271c-4050-a137-c297b3d8652f');\n",
              "          const dataTable =\n",
              "            await google.colab.kernel.invokeFunction('convertToInteractive',\n",
              "                                                     [key], {});\n",
              "          if (!dataTable) return;\n",
              "\n",
              "          const docLinkHtml = 'Like what you see? Visit the ' +\n",
              "            '<a target=\"_blank\" href=https://colab.research.google.com/notebooks/data_table.ipynb>data table notebook</a>'\n",
              "            + ' to learn more about interactive tables.';\n",
              "          element.innerHTML = '';\n",
              "          dataTable['output_type'] = 'display_data';\n",
              "          await google.colab.output.renderOutput(dataTable, element);\n",
              "          const docLink = document.createElement('div');\n",
              "          docLink.innerHTML = docLinkHtml;\n",
              "          element.appendChild(docLink);\n",
              "        }\n",
              "      </script>\n",
              "    </div>\n",
              "  </div>\n",
              "  "
            ]
          },
          "metadata": {},
          "execution_count": 49
        }
      ]
    },
    {
      "cell_type": "code",
      "source": [
        "group_2"
      ],
      "metadata": {
        "colab": {
          "base_uri": "https://localhost:8080/",
          "height": 424
        },
        "id": "s2HEsd53cIOY",
        "outputId": "e38264d9-cac6-4703-ba4f-c175291497c5"
      },
      "execution_count": null,
      "outputs": [
        {
          "output_type": "execute_result",
          "data": {
            "text/plain": [
              "       user_id  exp_group  likes  views       ctr  smoothed_ctr\n",
              "5       131473          2     14    134  0.104478      0.107844\n",
              "6        23985          2      7     87  0.080460      0.086851\n",
              "7        24523          2     11    101  0.108911      0.113116\n",
              "8        32420          2     26    128  0.203125      0.202935\n",
              "9        24239          2     40     90  0.444444      0.431477\n",
              "...        ...        ...    ...    ...       ...           ...\n",
              "20023    16512          2      1     15  0.066667      0.099515\n",
              "20025    17146          2      0     10  0.000000      0.066020\n",
              "20028    25383          2     42    127  0.330709      0.325684\n",
              "20029   139020          2     24    114  0.210526      0.210003\n",
              "20030    17310          2      9     82  0.109756      0.114831\n",
              "\n",
              "[9952 rows x 6 columns]"
            ],
            "text/html": [
              "\n",
              "  <div id=\"df-b63f7890-3ccd-4ffe-af05-40481a0b3861\">\n",
              "    <div class=\"colab-df-container\">\n",
              "      <div>\n",
              "<style scoped>\n",
              "    .dataframe tbody tr th:only-of-type {\n",
              "        vertical-align: middle;\n",
              "    }\n",
              "\n",
              "    .dataframe tbody tr th {\n",
              "        vertical-align: top;\n",
              "    }\n",
              "\n",
              "    .dataframe thead th {\n",
              "        text-align: right;\n",
              "    }\n",
              "</style>\n",
              "<table border=\"1\" class=\"dataframe\">\n",
              "  <thead>\n",
              "    <tr style=\"text-align: right;\">\n",
              "      <th></th>\n",
              "      <th>user_id</th>\n",
              "      <th>exp_group</th>\n",
              "      <th>likes</th>\n",
              "      <th>views</th>\n",
              "      <th>ctr</th>\n",
              "      <th>smoothed_ctr</th>\n",
              "    </tr>\n",
              "  </thead>\n",
              "  <tbody>\n",
              "    <tr>\n",
              "      <th>5</th>\n",
              "      <td>131473</td>\n",
              "      <td>2</td>\n",
              "      <td>14</td>\n",
              "      <td>134</td>\n",
              "      <td>0.104478</td>\n",
              "      <td>0.107844</td>\n",
              "    </tr>\n",
              "    <tr>\n",
              "      <th>6</th>\n",
              "      <td>23985</td>\n",
              "      <td>2</td>\n",
              "      <td>7</td>\n",
              "      <td>87</td>\n",
              "      <td>0.080460</td>\n",
              "      <td>0.086851</td>\n",
              "    </tr>\n",
              "    <tr>\n",
              "      <th>7</th>\n",
              "      <td>24523</td>\n",
              "      <td>2</td>\n",
              "      <td>11</td>\n",
              "      <td>101</td>\n",
              "      <td>0.108911</td>\n",
              "      <td>0.113116</td>\n",
              "    </tr>\n",
              "    <tr>\n",
              "      <th>8</th>\n",
              "      <td>32420</td>\n",
              "      <td>2</td>\n",
              "      <td>26</td>\n",
              "      <td>128</td>\n",
              "      <td>0.203125</td>\n",
              "      <td>0.202935</td>\n",
              "    </tr>\n",
              "    <tr>\n",
              "      <th>9</th>\n",
              "      <td>24239</td>\n",
              "      <td>2</td>\n",
              "      <td>40</td>\n",
              "      <td>90</td>\n",
              "      <td>0.444444</td>\n",
              "      <td>0.431477</td>\n",
              "    </tr>\n",
              "    <tr>\n",
              "      <th>...</th>\n",
              "      <td>...</td>\n",
              "      <td>...</td>\n",
              "      <td>...</td>\n",
              "      <td>...</td>\n",
              "      <td>...</td>\n",
              "      <td>...</td>\n",
              "    </tr>\n",
              "    <tr>\n",
              "      <th>20023</th>\n",
              "      <td>16512</td>\n",
              "      <td>2</td>\n",
              "      <td>1</td>\n",
              "      <td>15</td>\n",
              "      <td>0.066667</td>\n",
              "      <td>0.099515</td>\n",
              "    </tr>\n",
              "    <tr>\n",
              "      <th>20025</th>\n",
              "      <td>17146</td>\n",
              "      <td>2</td>\n",
              "      <td>0</td>\n",
              "      <td>10</td>\n",
              "      <td>0.000000</td>\n",
              "      <td>0.066020</td>\n",
              "    </tr>\n",
              "    <tr>\n",
              "      <th>20028</th>\n",
              "      <td>25383</td>\n",
              "      <td>2</td>\n",
              "      <td>42</td>\n",
              "      <td>127</td>\n",
              "      <td>0.330709</td>\n",
              "      <td>0.325684</td>\n",
              "    </tr>\n",
              "    <tr>\n",
              "      <th>20029</th>\n",
              "      <td>139020</td>\n",
              "      <td>2</td>\n",
              "      <td>24</td>\n",
              "      <td>114</td>\n",
              "      <td>0.210526</td>\n",
              "      <td>0.210003</td>\n",
              "    </tr>\n",
              "    <tr>\n",
              "      <th>20030</th>\n",
              "      <td>17310</td>\n",
              "      <td>2</td>\n",
              "      <td>9</td>\n",
              "      <td>82</td>\n",
              "      <td>0.109756</td>\n",
              "      <td>0.114831</td>\n",
              "    </tr>\n",
              "  </tbody>\n",
              "</table>\n",
              "<p>9952 rows × 6 columns</p>\n",
              "</div>\n",
              "      <button class=\"colab-df-convert\" onclick=\"convertToInteractive('df-b63f7890-3ccd-4ffe-af05-40481a0b3861')\"\n",
              "              title=\"Convert this dataframe to an interactive table.\"\n",
              "              style=\"display:none;\">\n",
              "        \n",
              "  <svg xmlns=\"http://www.w3.org/2000/svg\" height=\"24px\"viewBox=\"0 0 24 24\"\n",
              "       width=\"24px\">\n",
              "    <path d=\"M0 0h24v24H0V0z\" fill=\"none\"/>\n",
              "    <path d=\"M18.56 5.44l.94 2.06.94-2.06 2.06-.94-2.06-.94-.94-2.06-.94 2.06-2.06.94zm-11 1L8.5 8.5l.94-2.06 2.06-.94-2.06-.94L8.5 2.5l-.94 2.06-2.06.94zm10 10l.94 2.06.94-2.06 2.06-.94-2.06-.94-.94-2.06-.94 2.06-2.06.94z\"/><path d=\"M17.41 7.96l-1.37-1.37c-.4-.4-.92-.59-1.43-.59-.52 0-1.04.2-1.43.59L10.3 9.45l-7.72 7.72c-.78.78-.78 2.05 0 2.83L4 21.41c.39.39.9.59 1.41.59.51 0 1.02-.2 1.41-.59l7.78-7.78 2.81-2.81c.8-.78.8-2.07 0-2.86zM5.41 20L4 18.59l7.72-7.72 1.47 1.35L5.41 20z\"/>\n",
              "  </svg>\n",
              "      </button>\n",
              "      \n",
              "  <style>\n",
              "    .colab-df-container {\n",
              "      display:flex;\n",
              "      flex-wrap:wrap;\n",
              "      gap: 12px;\n",
              "    }\n",
              "\n",
              "    .colab-df-convert {\n",
              "      background-color: #E8F0FE;\n",
              "      border: none;\n",
              "      border-radius: 50%;\n",
              "      cursor: pointer;\n",
              "      display: none;\n",
              "      fill: #1967D2;\n",
              "      height: 32px;\n",
              "      padding: 0 0 0 0;\n",
              "      width: 32px;\n",
              "    }\n",
              "\n",
              "    .colab-df-convert:hover {\n",
              "      background-color: #E2EBFA;\n",
              "      box-shadow: 0px 1px 2px rgba(60, 64, 67, 0.3), 0px 1px 3px 1px rgba(60, 64, 67, 0.15);\n",
              "      fill: #174EA6;\n",
              "    }\n",
              "\n",
              "    [theme=dark] .colab-df-convert {\n",
              "      background-color: #3B4455;\n",
              "      fill: #D2E3FC;\n",
              "    }\n",
              "\n",
              "    [theme=dark] .colab-df-convert:hover {\n",
              "      background-color: #434B5C;\n",
              "      box-shadow: 0px 1px 3px 1px rgba(0, 0, 0, 0.15);\n",
              "      filter: drop-shadow(0px 1px 2px rgba(0, 0, 0, 0.3));\n",
              "      fill: #FFFFFF;\n",
              "    }\n",
              "  </style>\n",
              "\n",
              "      <script>\n",
              "        const buttonEl =\n",
              "          document.querySelector('#df-b63f7890-3ccd-4ffe-af05-40481a0b3861 button.colab-df-convert');\n",
              "        buttonEl.style.display =\n",
              "          google.colab.kernel.accessAllowed ? 'block' : 'none';\n",
              "\n",
              "        async function convertToInteractive(key) {\n",
              "          const element = document.querySelector('#df-b63f7890-3ccd-4ffe-af05-40481a0b3861');\n",
              "          const dataTable =\n",
              "            await google.colab.kernel.invokeFunction('convertToInteractive',\n",
              "                                                     [key], {});\n",
              "          if (!dataTable) return;\n",
              "\n",
              "          const docLinkHtml = 'Like what you see? Visit the ' +\n",
              "            '<a target=\"_blank\" href=https://colab.research.google.com/notebooks/data_table.ipynb>data table notebook</a>'\n",
              "            + ' to learn more about interactive tables.';\n",
              "          element.innerHTML = '';\n",
              "          dataTable['output_type'] = 'display_data';\n",
              "          await google.colab.output.renderOutput(dataTable, element);\n",
              "          const docLink = document.createElement('div');\n",
              "          docLink.innerHTML = docLinkHtml;\n",
              "          element.appendChild(docLink);\n",
              "        }\n",
              "      </script>\n",
              "    </div>\n",
              "  </div>\n",
              "  "
            ]
          },
          "metadata": {},
          "execution_count": 50
        }
      ]
    },
    {
      "cell_type": "code",
      "source": [
        "sns.histplot(group_1['smoothed_ctr'],\n",
        "             color='b',\n",
        "             alpha=0.5,\n",
        "             kde=False);\n",
        "sns.histplot(group_2['smoothed_ctr'],\n",
        "             color='y',\n",
        "             alpha=0.5,\n",
        "             kde=False);\n",
        "plt.legend(labels=['Control group', 'Treatment group']);"
      ],
      "metadata": {
        "colab": {
          "base_uri": "https://localhost:8080/",
          "height": 611
        },
        "id": "NIZLE4Qtehj1",
        "outputId": "a26e12be-d88b-4bb4-fcbf-0dc7a29f3201"
      },
      "execution_count": null,
      "outputs": [
        {
          "output_type": "display_data",
          "data": {
            "text/plain": [
              "<Figure size 720x720 with 1 Axes>"
            ],
            "image/png": "[encoded data removed]"
          },
          "metadata": {}
        }
      ]
    },
    {
      "cell_type": "markdown",
      "source": [
        "**ttest**"
      ],
      "metadata": {
        "id": "tPsYLCcsh51p"
      }
    },
    {
      "cell_type": "code",
      "source": [
        "st.ttest_ind(group_1['smoothed_ctr'], group_2['smoothed_ctr'], equal_var=False)"
      ],
      "metadata": {
        "colab": {
          "base_uri": "https://localhost:8080/"
        },
        "id": "26tgYl_-hQVK",
        "outputId": "6a09e13b-a0ae-456f-beac-a3296cd35765"
      },
      "execution_count": null,
      "outputs": [
        {
          "output_type": "execute_result",
          "data": {
            "text/plain": [
              "Ttest_indResult(statistic=2.2841320431616983, pvalue=0.0223769815558559)"
            ]
          },
          "metadata": {},
          "execution_count": 63
        }
      ]
    },
    {
      "cell_type": "code",
      "source": [
        "# средние в контрольниой и тестовой группах\n",
        "group_1['smoothed_ctr'].mean(), group_2['smoothed_ctr'].mean()"
      ],
      "metadata": {
        "colab": {
          "base_uri": "https://localhost:8080/"
        },
        "id": "jFLgQCygh0TN",
        "outputId": "673034a1-dce5-4e6a-93d9-3d3122f1711e"
      },
      "execution_count": null,
      "outputs": [
        {
          "output_type": "execute_result",
          "data": {
            "text/plain": [
              "(0.21402549608884142, 0.21073955503259234)"
            ]
          },
          "metadata": {},
          "execution_count": 89
        }
      ]
    },
    {
      "cell_type": "markdown",
      "source": [
        "**Mann-Witney test**"
      ],
      "metadata": {
        "id": "49CFt3Ceh6mA"
      }
    },
    {
      "cell_type": "code",
      "source": [
        "st.mannwhitneyu(group_1['smoothed_ctr'], group_2['smoothed_ctr'], alternative='two-sided')"
      ],
      "metadata": {
        "colab": {
          "base_uri": "https://localhost:8080/"
        },
        "id": "agpb21JJh-bR",
        "outputId": "185c1648-9c0c-42d9-eebf-ee64e7b203ff"
      },
      "execution_count": null,
      "outputs": [
        {
          "output_type": "execute_result",
          "data": {
            "text/plain": [
              "MannwhitneyuResult(statistic=56925125.0, pvalue=1.6163964114270227e-61)"
            ]
          },
          "metadata": {},
          "execution_count": 66
        }
      ]
    },
    {
      "cell_type": "markdown",
      "source": [
        "**Вывод:**\n",
        "\n",
        "На сглаженном ctr ttest, в отличие от обычного ctr, показывает стат. значимое различие. Тест Манна-Уитни по-прежнему показывает различие."
      ],
      "metadata": {
        "id": "5aRIamuFiUEL"
      }
    },
    {
      "cell_type": "markdown",
      "source": [
        "### Poisson bootstrap"
      ],
      "metadata": {
        "id": "JL3SYqu2tFsh"
      }
    },
    {
      "cell_type": "code",
      "source": [
        "def poisson_bootstrap(likes1: np.ndarray,\n",
        "                      views1: np.ndarray,\n",
        "                      likes2: np.ndarray,\n",
        "                      views2: np.ndarray,\n",
        "                      n_bootstrap: int = 10000\n",
        ") -> Tuple[np.ndarray, np.ndarray]:\n",
        "    btstrp_samples_1 = st.poisson(1).rvs((n_bootstrap, len(likes1)))\n",
        "    btstrp_samples_2 = st.poisson(1).rvs((n_bootstrap, len(likes2)))\n",
        "\n",
        "    global_ctr_1 = (btstrp_samples_1 * likes1).sum(axis=1) / (btstrp_samples_1 * views1).sum(axis=1)\n",
        "    global_ctr_2 = (btstrp_samples_2 * likes2).sum(axis=1) / (btstrp_samples_2 * views2).sum(axis=1)\n",
        "\n",
        "    return global_ctr_1, global_ctr_2"
      ],
      "metadata": {
        "id": "QMu3qrFYtZRx"
      },
      "execution_count": 5,
      "outputs": []
    },
    {
      "cell_type": "code",
      "source": [
        "likes1 = df_ab[df_ab.exp_group == 1]['likes'].to_numpy()\n",
        "likes2 = df_ab[df_ab.exp_group == 2]['likes'].to_numpy()\n",
        "views1 = df_ab[df_ab.exp_group == 1]['views'].to_numpy()\n",
        "views2 = df_ab[df_ab.exp_group == 2]['views'].to_numpy()"
      ],
      "metadata": {
        "id": "A6de_kREoh6y"
      },
      "execution_count": null,
      "outputs": []
    },
    {
      "cell_type": "code",
      "source": [
        "ctr_1, ctr_2  = poisson_bootstrap(likes1, views1, likes2, views2)"
      ],
      "metadata": {
        "id": "59ogbgMvqyf-"
      },
      "execution_count": null,
      "outputs": []
    },
    {
      "cell_type": "code",
      "source": [
        "sns.set(rc={'figure.figsize':(10, 10)})\n",
        "sns.histplot(ctr_1)\n",
        "sns.histplot(ctr_2);"
      ],
      "metadata": {
        "colab": {
          "base_uri": "https://localhost:8080/",
          "height": 594
        },
        "id": "JBATsyU2XqGp",
        "outputId": "fc923f0b-7a16-451c-d08c-097b54aa4068"
      },
      "execution_count": null,
      "outputs": [
        {
          "output_type": "display_data",
          "data": {
            "text/plain": [
              "<Figure size 720x720 with 1 Axes>"
            ],
            "image/png": "[encoded data removed]"
          },
          "metadata": {}
        }
      ]
    },
    {
      "cell_type": "code",
      "source": [
        "sns.histplot(ctr_1 - ctr_2)"
      ],
      "metadata": {
        "colab": {
          "base_uri": "https://localhost:8080/",
          "height": 611
        },
        "id": "SLKMHJl5YwpV",
        "outputId": "95a6ad83-d3f8-4b55-fb88-d50b82357e59"
      },
      "execution_count": null,
      "outputs": [
        {
          "output_type": "execute_result",
          "data": {
            "text/plain": [
              "<matplotlib.axes._subplots.AxesSubplot at 0x7fea9afec910>"
            ]
          },
          "metadata": {},
          "execution_count": 24
        },
        {
          "output_type": "display_data",
          "data": {
            "text/plain": [
              "<Figure size 720x720 with 1 Axes>"
            ],
            "image/png": "[encoded data removed]"
          },
          "metadata": {}
        }
      ]
    },
    {
      "cell_type": "markdown",
      "source": [
        "**Вывод:** \n",
        "\n",
        "Распределение глобального ctr показывает, что ctr в тестовой группе стал меньше для каждой бустрап-подвыборки"
      ],
      "metadata": {
        "id": "eDq0RJyZi1Ge"
      }
    },
    {
      "cell_type": "markdown",
      "source": [
        "### Бакетное преобразование"
      ],
      "metadata": {
        "id": "7TmdDO45i9gt"
      }
    },
    {
      "cell_type": "code",
      "source": [
        "q = \"\"\"\n",
        "select\n",
        "  exp_group,\n",
        "  bucket,\n",
        "  sum(likes) / sum(views) as bucket_ctr\n",
        "from\n",
        "  (\n",
        "    SELECT\n",
        "      exp_group,\n",
        "      xxHash64(user_id) % 50 as bucket,\n",
        "      user_id,\n",
        "      sum(action = 'like') as likes,\n",
        "      sum(action = 'view') as views,\n",
        "      likes / views as ctr\n",
        "    FROM\n",
        "      simulator_20221020.feed_actions\n",
        "    where\n",
        "      toDate(time) >= '2022-10-03'\n",
        "      and toDate(time) <= '2022-10-09'\n",
        "      and exp_group in (1, 2)\n",
        "    GROUP BY\n",
        "      exp_group,\n",
        "      bucket,\n",
        "      user_id\n",
        "  )\n",
        "group by\n",
        "  bucket,\n",
        "  exp_group\n",
        "\"\"\""
      ],
      "metadata": {
        "id": "jYfg1hOJjATB"
      },
      "execution_count": null,
      "outputs": []
    },
    {
      "cell_type": "code",
      "source": [
        "df_bucket = ph.read_clickhouse(q, connection=connection)\n",
        "df_bucket"
      ],
      "metadata": {
        "colab": {
          "base_uri": "https://localhost:8080/",
          "height": 424
        },
        "id": "1aDgaxf5y_3u",
        "outputId": "6598d13d-d6e6-47d7-ed2c-afd5035fe4e8"
      },
      "execution_count": null,
      "outputs": [
        {
          "output_type": "execute_result",
          "data": {
            "text/plain": [
              "    exp_group  bucket  bucket_ctr\n",
              "0           1       0    0.196481\n",
              "1           1       1    0.211887\n",
              "2           1       2    0.206271\n",
              "3           1       3    0.203733\n",
              "4           1       4    0.209739\n",
              "..        ...     ...         ...\n",
              "95          2      45    0.179901\n",
              "96          2      46    0.192589\n",
              "97          2      47    0.195880\n",
              "98          2      48    0.194502\n",
              "99          2      49    0.196539\n",
              "\n",
              "[100 rows x 3 columns]"
            ],
            "text/html": [
              "\n",
              "  <div id=\"df-f99a29f5-b622-40b0-927a-dc02e0d2e0b5\">\n",
              "    <div class=\"colab-df-container\">\n",
              "      <div>\n",
              "<style scoped>\n",
              "    .dataframe tbody tr th:only-of-type {\n",
              "        vertical-align: middle;\n",
              "    }\n",
              "\n",
              "    .dataframe tbody tr th {\n",
              "        vertical-align: top;\n",
              "    }\n",
              "\n",
              "    .dataframe thead th {\n",
              "        text-align: right;\n",
              "    }\n",
              "</style>\n",
              "<table border=\"1\" class=\"dataframe\">\n",
              "  <thead>\n",
              "    <tr style=\"text-align: right;\">\n",
              "      <th></th>\n",
              "      <th>exp_group</th>\n",
              "      <th>bucket</th>\n",
              "      <th>bucket_ctr</th>\n",
              "    </tr>\n",
              "  </thead>\n",
              "  <tbody>\n",
              "    <tr>\n",
              "      <th>0</th>\n",
              "      <td>1</td>\n",
              "      <td>0</td>\n",
              "      <td>0.196481</td>\n",
              "    </tr>\n",
              "    <tr>\n",
              "      <th>1</th>\n",
              "      <td>1</td>\n",
              "      <td>1</td>\n",
              "      <td>0.211887</td>\n",
              "    </tr>\n",
              "    <tr>\n",
              "      <th>2</th>\n",
              "      <td>1</td>\n",
              "      <td>2</td>\n",
              "      <td>0.206271</td>\n",
              "    </tr>\n",
              "    <tr>\n",
              "      <th>3</th>\n",
              "      <td>1</td>\n",
              "      <td>3</td>\n",
              "      <td>0.203733</td>\n",
              "    </tr>\n",
              "    <tr>\n",
              "      <th>4</th>\n",
              "      <td>1</td>\n",
              "      <td>4</td>\n",
              "      <td>0.209739</td>\n",
              "    </tr>\n",
              "    <tr>\n",
              "      <th>...</th>\n",
              "      <td>...</td>\n",
              "      <td>...</td>\n",
              "      <td>...</td>\n",
              "    </tr>\n",
              "    <tr>\n",
              "      <th>95</th>\n",
              "      <td>2</td>\n",
              "      <td>45</td>\n",
              "      <td>0.179901</td>\n",
              "    </tr>\n",
              "    <tr>\n",
              "      <th>96</th>\n",
              "      <td>2</td>\n",
              "      <td>46</td>\n",
              "      <td>0.192589</td>\n",
              "    </tr>\n",
              "    <tr>\n",
              "      <th>97</th>\n",
              "      <td>2</td>\n",
              "      <td>47</td>\n",
              "      <td>0.195880</td>\n",
              "    </tr>\n",
              "    <tr>\n",
              "      <th>98</th>\n",
              "      <td>2</td>\n",
              "      <td>48</td>\n",
              "      <td>0.194502</td>\n",
              "    </tr>\n",
              "    <tr>\n",
              "      <th>99</th>\n",
              "      <td>2</td>\n",
              "      <td>49</td>\n",
              "      <td>0.196539</td>\n",
              "    </tr>\n",
              "  </tbody>\n",
              "</table>\n",
              "<p>100 rows × 3 columns</p>\n",
              "</div>\n",
              "      <button class=\"colab-df-convert\" onclick=\"convertToInteractive('df-f99a29f5-b622-40b0-927a-dc02e0d2e0b5')\"\n",
              "              title=\"Convert this dataframe to an interactive table.\"\n",
              "              style=\"display:none;\">\n",
              "        \n",
              "  <svg xmlns=\"http://www.w3.org/2000/svg\" height=\"24px\"viewBox=\"0 0 24 24\"\n",
              "       width=\"24px\">\n",
              "    <path d=\"M0 0h24v24H0V0z\" fill=\"none\"/>\n",
              "    <path d=\"M18.56 5.44l.94 2.06.94-2.06 2.06-.94-2.06-.94-.94-2.06-.94 2.06-2.06.94zm-11 1L8.5 8.5l.94-2.06 2.06-.94-2.06-.94L8.5 2.5l-.94 2.06-2.06.94zm10 10l.94 2.06.94-2.06 2.06-.94-2.06-.94-.94-2.06-.94 2.06-2.06.94z\"/><path d=\"M17.41 7.96l-1.37-1.37c-.4-.4-.92-.59-1.43-.59-.52 0-1.04.2-1.43.59L10.3 9.45l-7.72 7.72c-.78.78-.78 2.05 0 2.83L4 21.41c.39.39.9.59 1.41.59.51 0 1.02-.2 1.41-.59l7.78-7.78 2.81-2.81c.8-.78.8-2.07 0-2.86zM5.41 20L4 18.59l7.72-7.72 1.47 1.35L5.41 20z\"/>\n",
              "  </svg>\n",
              "      </button>\n",
              "      \n",
              "  <style>\n",
              "    .colab-df-container {\n",
              "      display:flex;\n",
              "      flex-wrap:wrap;\n",
              "      gap: 12px;\n",
              "    }\n",
              "\n",
              "    .colab-df-convert {\n",
              "      background-color: #E8F0FE;\n",
              "      border: none;\n",
              "      border-radius: 50%;\n",
              "      cursor: pointer;\n",
              "      display: none;\n",
              "      fill: #1967D2;\n",
              "      height: 32px;\n",
              "      padding: 0 0 0 0;\n",
              "      width: 32px;\n",
              "    }\n",
              "\n",
              "    .colab-df-convert:hover {\n",
              "      background-color: #E2EBFA;\n",
              "      box-shadow: 0px 1px 2px rgba(60, 64, 67, 0.3), 0px 1px 3px 1px rgba(60, 64, 67, 0.15);\n",
              "      fill: #174EA6;\n",
              "    }\n",
              "\n",
              "    [theme=dark] .colab-df-convert {\n",
              "      background-color: #3B4455;\n",
              "      fill: #D2E3FC;\n",
              "    }\n",
              "\n",
              "    [theme=dark] .colab-df-convert:hover {\n",
              "      background-color: #434B5C;\n",
              "      box-shadow: 0px 1px 3px 1px rgba(0, 0, 0, 0.15);\n",
              "      filter: drop-shadow(0px 1px 2px rgba(0, 0, 0, 0.3));\n",
              "      fill: #FFFFFF;\n",
              "    }\n",
              "  </style>\n",
              "\n",
              "      <script>\n",
              "        const buttonEl =\n",
              "          document.querySelector('#df-f99a29f5-b622-40b0-927a-dc02e0d2e0b5 button.colab-df-convert');\n",
              "        buttonEl.style.display =\n",
              "          google.colab.kernel.accessAllowed ? 'block' : 'none';\n",
              "\n",
              "        async function convertToInteractive(key) {\n",
              "          const element = document.querySelector('#df-f99a29f5-b622-40b0-927a-dc02e0d2e0b5');\n",
              "          const dataTable =\n",
              "            await google.colab.kernel.invokeFunction('convertToInteractive',\n",
              "                                                     [key], {});\n",
              "          if (!dataTable) return;\n",
              "\n",
              "          const docLinkHtml = 'Like what you see? Visit the ' +\n",
              "            '<a target=\"_blank\" href=https://colab.research.google.com/notebooks/data_table.ipynb>data table notebook</a>'\n",
              "            + ' to learn more about interactive tables.';\n",
              "          element.innerHTML = '';\n",
              "          dataTable['output_type'] = 'display_data';\n",
              "          await google.colab.output.renderOutput(dataTable, element);\n",
              "          const docLink = document.createElement('div');\n",
              "          docLink.innerHTML = docLinkHtml;\n",
              "          element.appendChild(docLink);\n",
              "        }\n",
              "      </script>\n",
              "    </div>\n",
              "  </div>\n",
              "  "
            ]
          },
          "metadata": {},
          "execution_count": 71
        }
      ]
    },
    {
      "cell_type": "markdown",
      "source": [
        "**ttest**"
      ],
      "metadata": {
        "id": "Dv67udnNzTOI"
      }
    },
    {
      "cell_type": "code",
      "source": [
        "st.ttest_ind(df_bucket[df_bucket['exp_group'] == 1]['bucket_ctr'],\n",
        "             df_bucket[df_bucket['exp_group'] == 2]['bucket_ctr'],\n",
        "             equal_var=False)"
      ],
      "metadata": {
        "colab": {
          "base_uri": "https://localhost:8080/"
        },
        "id": "LEW_lFZczPCo",
        "outputId": "a60b69e9-5d49-44a5-e63b-712db8f409f5"
      },
      "execution_count": null,
      "outputs": [
        {
          "output_type": "execute_result",
          "data": {
            "text/plain": [
              "Ttest_indResult(statistic=5.668234732053979, pvalue=3.4455951649945907e-07)"
            ]
          },
          "metadata": {},
          "execution_count": 72
        }
      ]
    },
    {
      "cell_type": "markdown",
      "source": [
        "**Mann-Witney test**"
      ],
      "metadata": {
        "id": "MZ4J6kknzumN"
      }
    },
    {
      "cell_type": "code",
      "source": [
        "st.mannwhitneyu(df_bucket[df_bucket['exp_group'] == 1]['bucket_ctr'],\n",
        "                df_bucket[df_bucket['exp_group'] == 2]['bucket_ctr'],\n",
        "                alternative='two-sided')"
      ],
      "metadata": {
        "colab": {
          "base_uri": "https://localhost:8080/"
        },
        "id": "HSk6H4Ruzvlk",
        "outputId": "48a8dc2e-3794-4117-df3c-4765d56cc16d"
      },
      "execution_count": null,
      "outputs": [
        {
          "output_type": "execute_result",
          "data": {
            "text/plain": [
              "MannwhitneyuResult(statistic=1995.0, pvalue=2.859963936492646e-07)"
            ]
          },
          "metadata": {},
          "execution_count": 73
        }
      ]
    },
    {
      "cell_type": "code",
      "source": [
        "sns.histplot(df_bucket[df_bucket['exp_group'] == 1]['bucket_ctr'],\n",
        "             color='b',\n",
        "             alpha=0.5,\n",
        "             kde=False)\n",
        "sns.histplot(df_bucket[df_bucket['exp_group'] == 2]['bucket_ctr'],\n",
        "             color='y',\n",
        "             alpha=0.5,\n",
        "             kde=False);"
      ],
      "metadata": {
        "colab": {
          "base_uri": "https://localhost:8080/",
          "height": 611
        },
        "id": "JAIj8oxVz7_F",
        "outputId": "cbee8ec9-47b2-47f0-8acb-6be243f8d9e8"
      },
      "execution_count": null,
      "outputs": [
        {
          "output_type": "display_data",
          "data": {
            "text/plain": [
              "<Figure size 720x720 with 1 Axes>"
            ],
            "image/png": "[encoded data removed]"
          },
          "metadata": {}
        }
      ]
    },
    {
      "cell_type": "markdown",
      "source": [
        "**Вывод:** \n",
        "\n",
        "Оба теста показывают стат. значимое различие, что также визуально видно на распределениях (среднее тестовой группы смещено). Также стоит отметить, что распределение бакетного ctr напоминает нормальное. "
      ],
      "metadata": {
        "id": "xUh2Shvv0BmY"
      }
    },
    {
      "cell_type": "markdown",
      "source": [
        "### Заключение\n",
        "\n"
      ],
      "metadata": {
        "id": "_4v4WUJm_0yW"
      }
    },
    {
      "cell_type": "markdown",
      "source": [
        "Таким образом, было проведено A/B тестирование при помощи ttest'а Стьюдента и теста Манна-Уитни, а также при помощи различных методов, таких как: сглаживание CTR, Пуассоновский бутстреп, бакетное преобразование. \n",
        "Как уже было отмечено, между контрольной и тестовой группами наблюдается стат. значимое различие, что проявляется как в сравнении поюзерного CTR, так и глобального. Причем, как показали Пуассоновский бутстрап и бакетное преобразование, в среднем глобальный CTR уменьшился. Поэтому **не рекомендуется** раскатывать новый алгоритм на всех пользователей. "
      ],
      "metadata": {
        "id": "wgqmk83c_3Jp"
      }
    }
  ]
}
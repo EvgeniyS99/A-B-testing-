{
  "nbformat": 4,
  "nbformat_minor": 0,
  "metadata": {
    "colab": {
      "provenance": []
    },
    "kernelspec": {
      "name": "python3",
      "display_name": "Python 3"
    },
    "language_info": {
      "name": "python"
    }
  },
  "cells": [
    {
      "cell_type": "code",
      "execution_count": null,
      "metadata": {
        "id": "jn5TW5C9E4df"
      },
      "outputs": [],
      "source": [
        "import pandas as pd\n",
        "import pandahouse as ph\n",
        "import numpy as np\n",
        "import seaborn as sns\n",
        "import scipy.stats as st\n",
        "import matplotlib.pyplot as plt\n",
        "from typing import List"
      ]
    },
    {
      "cell_type": "code",
      "source": [
        "!pip install pandahouse"
      ],
      "metadata": {
        "colab": {
          "base_uri": "https://localhost:8080/"
        },
        "id": "91epOVpdE7ws",
        "outputId": "b63164bd-8634-46cc-c225-a02cf1dc38f6"
      },
      "execution_count": null,
      "outputs": [
        {
          "output_type": "stream",
          "name": "stdout",
          "text": [
            "Looking in indexes: https://pypi.org/simple, https://us-python.pkg.dev/colab-wheels/public/simple/\n",
            "Collecting pandahouse\n",
            "  Downloading pandahouse-0.2.7.tar.gz (21 kB)\n",
            "Requirement already satisfied: pandas in /usr/local/lib/python3.7/dist-packages (from pandahouse) (1.3.5)\n",
            "Requirement already satisfied: requests in /usr/local/lib/python3.7/dist-packages (from pandahouse) (2.23.0)\n",
            "Requirement already satisfied: toolz in /usr/local/lib/python3.7/dist-packages (from pandahouse) (0.12.0)\n",
            "Requirement already satisfied: python-dateutil>=2.7.3 in /usr/local/lib/python3.7/dist-packages (from pandas->pandahouse) (2.8.2)\n",
            "Requirement already satisfied: pytz>=2017.3 in /usr/local/lib/python3.7/dist-packages (from pandas->pandahouse) (2022.5)\n",
            "Requirement already satisfied: numpy>=1.17.3 in /usr/local/lib/python3.7/dist-packages (from pandas->pandahouse) (1.21.6)\n",
            "Requirement already satisfied: six>=1.5 in /usr/local/lib/python3.7/dist-packages (from python-dateutil>=2.7.3->pandas->pandahouse) (1.15.0)\n",
            "Requirement already satisfied: urllib3!=1.25.0,!=1.25.1,<1.26,>=1.21.1 in /usr/local/lib/python3.7/dist-packages (from requests->pandahouse) (1.24.3)\n",
            "Requirement already satisfied: certifi>=2017.4.17 in /usr/local/lib/python3.7/dist-packages (from requests->pandahouse) (2022.9.24)\n",
            "Requirement already satisfied: idna<3,>=2.5 in /usr/local/lib/python3.7/dist-packages (from requests->pandahouse) (2.10)\n",
            "Requirement already satisfied: chardet<4,>=3.0.2 in /usr/local/lib/python3.7/dist-packages (from requests->pandahouse) (3.0.4)\n",
            "Building wheels for collected packages: pandahouse\n",
            "  Building wheel for pandahouse (setup.py) ... \u001b[?25l\u001b[?25hdone\n",
            "  Created wheel for pandahouse: filename=pandahouse-0.2.7-py2.py3-none-any.whl size=5921 sha256=d4514125f658fd0b31ee5afecc86d332ada690136f42c960a60a0a3749d2a551\n",
            "  Stored in directory: /root/.cache/pip/wheels/a5/21/86/0baf87a3ad07ced200fa982d25162c82bb099114382cdeaa46\n",
            "Successfully built pandahouse\n",
            "Installing collected packages: pandahouse\n",
            "Successfully installed pandahouse-0.2.7\n"
          ]
        }
      ]
    },
    {
      "cell_type": "code",
      "source": [
        "connection = {\n",
        "    'host': 'https://clickhouse.lab.karpov.courses',\n",
        "    'password': 'dpo_python_2020',\n",
        "    'user': 'student',\n",
        "    'database': 'simulator_20221020'\n",
        "}"
      ],
      "metadata": {
        "id": "qkzoJHIqFCVb"
      },
      "execution_count": null,
      "outputs": []
    },
    {
      "cell_type": "markdown",
      "source": [
        "### Линеаризованный CTR для 1 и 2 групп"
      ],
      "metadata": {
        "id": "fBhjdU4bKCyK"
      }
    },
    {
      "cell_type": "code",
      "source": [
        "q = \"\"\"\n",
        "select user_id,\n",
        "exp_group, \n",
        "countIf(action='like') as likes,\n",
        "countIf(action='view') as views, \n",
        "likes / views as ctr\n",
        "from {db}.feed_actions\n",
        "where toDate(time) >= '2022-10-03' and toDate(time) <= '2022-10-09'\n",
        "and exp_group in (1, 2)\n",
        "group by exp_group, user_id\n",
        "\"\"\""
      ],
      "metadata": {
        "id": "X3ya8JniFEPh"
      },
      "execution_count": null,
      "outputs": []
    },
    {
      "cell_type": "code",
      "source": [
        "df_12 = ph.read_clickhouse(q, connection=connection)\n",
        "df_12"
      ],
      "metadata": {
        "colab": {
          "base_uri": "https://localhost:8080/",
          "height": 424
        },
        "id": "b2Gj4nlZFXv9",
        "outputId": "9f95bfaf-0790-41ff-b59b-1366331c0aee"
      },
      "execution_count": null,
      "outputs": [
        {
          "output_type": "execute_result",
          "data": {
            "text/plain": [
              "       user_id  exp_group  likes  views       ctr\n",
              "0       109963          1      3     15  0.200000\n",
              "1        26117          1     32    141  0.226950\n",
              "2       138232          1     18     73  0.246575\n",
              "3        26295          1     33    122  0.270492\n",
              "4        18392          1      7     32  0.218750\n",
              "...        ...        ...    ...    ...       ...\n",
              "20026   132567          1     45    296  0.152027\n",
              "20027    30872          1     11     59  0.186441\n",
              "20028    25383          2     42    127  0.330709\n",
              "20029   139020          2     24    114  0.210526\n",
              "20030    17310          2      9     82  0.109756\n",
              "\n",
              "[20031 rows x 5 columns]"
            ],
            "text/html": [
              "\n",
              "  <div id=\"df-c4433474-7473-4482-9291-c98492941594\">\n",
              "    <div class=\"colab-df-container\">\n",
              "      <div>\n",
              "<style scoped>\n",
              "    .dataframe tbody tr th:only-of-type {\n",
              "        vertical-align: middle;\n",
              "    }\n",
              "\n",
              "    .dataframe tbody tr th {\n",
              "        vertical-align: top;\n",
              "    }\n",
              "\n",
              "    .dataframe thead th {\n",
              "        text-align: right;\n",
              "    }\n",
              "</style>\n",
              "<table border=\"1\" class=\"dataframe\">\n",
              "  <thead>\n",
              "    <tr style=\"text-align: right;\">\n",
              "      <th></th>\n",
              "      <th>user_id</th>\n",
              "      <th>exp_group</th>\n",
              "      <th>likes</th>\n",
              "      <th>views</th>\n",
              "      <th>ctr</th>\n",
              "    </tr>\n",
              "  </thead>\n",
              "  <tbody>\n",
              "    <tr>\n",
              "      <th>0</th>\n",
              "      <td>109963</td>\n",
              "      <td>1</td>\n",
              "      <td>3</td>\n",
              "      <td>15</td>\n",
              "      <td>0.200000</td>\n",
              "    </tr>\n",
              "    <tr>\n",
              "      <th>1</th>\n",
              "      <td>26117</td>\n",
              "      <td>1</td>\n",
              "      <td>32</td>\n",
              "      <td>141</td>\n",
              "      <td>0.226950</td>\n",
              "    </tr>\n",
              "    <tr>\n",
              "      <th>2</th>\n",
              "      <td>138232</td>\n",
              "      <td>1</td>\n",
              "      <td>18</td>\n",
              "      <td>73</td>\n",
              "      <td>0.246575</td>\n",
              "    </tr>\n",
              "    <tr>\n",
              "      <th>3</th>\n",
              "      <td>26295</td>\n",
              "      <td>1</td>\n",
              "      <td>33</td>\n",
              "      <td>122</td>\n",
              "      <td>0.270492</td>\n",
              "    </tr>\n",
              "    <tr>\n",
              "      <th>4</th>\n",
              "      <td>18392</td>\n",
              "      <td>1</td>\n",
              "      <td>7</td>\n",
              "      <td>32</td>\n",
              "      <td>0.218750</td>\n",
              "    </tr>\n",
              "    <tr>\n",
              "      <th>...</th>\n",
              "      <td>...</td>\n",
              "      <td>...</td>\n",
              "      <td>...</td>\n",
              "      <td>...</td>\n",
              "      <td>...</td>\n",
              "    </tr>\n",
              "    <tr>\n",
              "      <th>20026</th>\n",
              "      <td>132567</td>\n",
              "      <td>1</td>\n",
              "      <td>45</td>\n",
              "      <td>296</td>\n",
              "      <td>0.152027</td>\n",
              "    </tr>\n",
              "    <tr>\n",
              "      <th>20027</th>\n",
              "      <td>30872</td>\n",
              "      <td>1</td>\n",
              "      <td>11</td>\n",
              "      <td>59</td>\n",
              "      <td>0.186441</td>\n",
              "    </tr>\n",
              "    <tr>\n",
              "      <th>20028</th>\n",
              "      <td>25383</td>\n",
              "      <td>2</td>\n",
              "      <td>42</td>\n",
              "      <td>127</td>\n",
              "      <td>0.330709</td>\n",
              "    </tr>\n",
              "    <tr>\n",
              "      <th>20029</th>\n",
              "      <td>139020</td>\n",
              "      <td>2</td>\n",
              "      <td>24</td>\n",
              "      <td>114</td>\n",
              "      <td>0.210526</td>\n",
              "    </tr>\n",
              "    <tr>\n",
              "      <th>20030</th>\n",
              "      <td>17310</td>\n",
              "      <td>2</td>\n",
              "      <td>9</td>\n",
              "      <td>82</td>\n",
              "      <td>0.109756</td>\n",
              "    </tr>\n",
              "  </tbody>\n",
              "</table>\n",
              "<p>20031 rows × 5 columns</p>\n",
              "</div>\n",
              "      <button class=\"colab-df-convert\" onclick=\"convertToInteractive('df-c4433474-7473-4482-9291-c98492941594')\"\n",
              "              title=\"Convert this dataframe to an interactive table.\"\n",
              "              style=\"display:none;\">\n",
              "        \n",
              "  <svg xmlns=\"http://www.w3.org/2000/svg\" height=\"24px\"viewBox=\"0 0 24 24\"\n",
              "       width=\"24px\">\n",
              "    <path d=\"M0 0h24v24H0V0z\" fill=\"none\"/>\n",
              "    <path d=\"M18.56 5.44l.94 2.06.94-2.06 2.06-.94-2.06-.94-.94-2.06-.94 2.06-2.06.94zm-11 1L8.5 8.5l.94-2.06 2.06-.94-2.06-.94L8.5 2.5l-.94 2.06-2.06.94zm10 10l.94 2.06.94-2.06 2.06-.94-2.06-.94-.94-2.06-.94 2.06-2.06.94z\"/><path d=\"M17.41 7.96l-1.37-1.37c-.4-.4-.92-.59-1.43-.59-.52 0-1.04.2-1.43.59L10.3 9.45l-7.72 7.72c-.78.78-.78 2.05 0 2.83L4 21.41c.39.39.9.59 1.41.59.51 0 1.02-.2 1.41-.59l7.78-7.78 2.81-2.81c.8-.78.8-2.07 0-2.86zM5.41 20L4 18.59l7.72-7.72 1.47 1.35L5.41 20z\"/>\n",
              "  </svg>\n",
              "      </button>\n",
              "      \n",
              "  <style>\n",
              "    .colab-df-container {\n",
              "      display:flex;\n",
              "      flex-wrap:wrap;\n",
              "      gap: 12px;\n",
              "    }\n",
              "\n",
              "    .colab-df-convert {\n",
              "      background-color: #E8F0FE;\n",
              "      border: none;\n",
              "      border-radius: 50%;\n",
              "      cursor: pointer;\n",
              "      display: none;\n",
              "      fill: #1967D2;\n",
              "      height: 32px;\n",
              "      padding: 0 0 0 0;\n",
              "      width: 32px;\n",
              "    }\n",
              "\n",
              "    .colab-df-convert:hover {\n",
              "      background-color: #E2EBFA;\n",
              "      box-shadow: 0px 1px 2px rgba(60, 64, 67, 0.3), 0px 1px 3px 1px rgba(60, 64, 67, 0.15);\n",
              "      fill: #174EA6;\n",
              "    }\n",
              "\n",
              "    [theme=dark] .colab-df-convert {\n",
              "      background-color: #3B4455;\n",
              "      fill: #D2E3FC;\n",
              "    }\n",
              "\n",
              "    [theme=dark] .colab-df-convert:hover {\n",
              "      background-color: #434B5C;\n",
              "      box-shadow: 0px 1px 3px 1px rgba(0, 0, 0, 0.15);\n",
              "      filter: drop-shadow(0px 1px 2px rgba(0, 0, 0, 0.3));\n",
              "      fill: #FFFFFF;\n",
              "    }\n",
              "  </style>\n",
              "\n",
              "      <script>\n",
              "        const buttonEl =\n",
              "          document.querySelector('#df-c4433474-7473-4482-9291-c98492941594 button.colab-df-convert');\n",
              "        buttonEl.style.display =\n",
              "          google.colab.kernel.accessAllowed ? 'block' : 'none';\n",
              "\n",
              "        async function convertToInteractive(key) {\n",
              "          const element = document.querySelector('#df-c4433474-7473-4482-9291-c98492941594');\n",
              "          const dataTable =\n",
              "            await google.colab.kernel.invokeFunction('convertToInteractive',\n",
              "                                                     [key], {});\n",
              "          if (!dataTable) return;\n",
              "\n",
              "          const docLinkHtml = 'Like what you see? Visit the ' +\n",
              "            '<a target=\"_blank\" href=https://colab.research.google.com/notebooks/data_table.ipynb>data table notebook</a>'\n",
              "            + ' to learn more about interactive tables.';\n",
              "          element.innerHTML = '';\n",
              "          dataTable['output_type'] = 'display_data';\n",
              "          await google.colab.output.renderOutput(dataTable, element);\n",
              "          const docLink = document.createElement('div');\n",
              "          docLink.innerHTML = docLinkHtml;\n",
              "          element.appendChild(docLink);\n",
              "        }\n",
              "      </script>\n",
              "    </div>\n",
              "  </div>\n",
              "  "
            ]
          },
          "metadata": {},
          "execution_count": 27
        }
      ]
    },
    {
      "cell_type": "code",
      "source": [
        "def lin_likes(user_likes: pd.Series,\n",
        "              user_views: pd.Series,\n",
        "              global_ctr_control: int\n",
        ") -> pd.Series:\n",
        "    linearized_likes = user_likes - global_ctr_control * user_views\n",
        "    return linearized_likes"
      ],
      "metadata": {
        "id": "nfCysTUKFk0b"
      },
      "execution_count": null,
      "outputs": []
    },
    {
      "cell_type": "code",
      "source": [
        "# считаем общий CTR в контрольной группе\n",
        "global_ctr_control = df_12[df_12['exp_group'] == 1]['likes'].sum() / df_12[df_12['exp_group'] == 1]['views'].sum()\n",
        "global_ctr_control"
      ],
      "metadata": {
        "colab": {
          "base_uri": "https://localhost:8080/"
        },
        "id": "EtV1s60vFm0v",
        "outputId": "3b1e5224-ee34-47a4-d49f-9c5be301e74a"
      },
      "execution_count": null,
      "outputs": [
        {
          "output_type": "execute_result",
          "data": {
            "text/plain": [
              "0.20802680490126244"
            ]
          },
          "metadata": {},
          "execution_count": 15
        }
      ]
    },
    {
      "cell_type": "code",
      "source": [
        "linearized_likes_control = lin_likes(df_12[df_12['exp_group'] == 1]['likes'],\n",
        "                                     df_12[df_12['exp_group'] == 1]['views'],\n",
        "                                     global_ctr_control)"
      ],
      "metadata": {
        "id": "oli07GWQGiFO"
      },
      "execution_count": null,
      "outputs": []
    },
    {
      "cell_type": "code",
      "source": [
        "linearized_likes_control"
      ],
      "metadata": {
        "colab": {
          "base_uri": "https://localhost:8080/"
        },
        "id": "mdOdaaAIISoY",
        "outputId": "660e4dce-bb49-4f9b-f119-9f4149a84ab2"
      },
      "execution_count": null,
      "outputs": [
        {
          "output_type": "execute_result",
          "data": {
            "text/plain": [
              "0        -0.120402\n",
              "1         2.668221\n",
              "2         2.814043\n",
              "3         0.343142\n",
              "4         7.620730\n",
              "           ...    \n",
              "20020    -1.361206\n",
              "20021     4.069561\n",
              "20024    -0.328429\n",
              "20025   -16.575934\n",
              "20027    -1.273581\n",
              "Length: 10079, dtype: float64"
            ]
          },
          "metadata": {},
          "execution_count": 9
        }
      ]
    },
    {
      "cell_type": "code",
      "source": [
        "linearized_likes_treat = lin_likes(df_12[df_12['exp_group'] == 2]['likes'],\n",
        "                                   df_12[df_12['exp_group'] == 2]['views'],\n",
        "                                   global_ctr_control)"
      ],
      "metadata": {
        "id": "z4BDKbZFG4Uh"
      },
      "execution_count": null,
      "outputs": []
    },
    {
      "cell_type": "code",
      "source": [
        "linearized_likes_treat"
      ],
      "metadata": {
        "colab": {
          "base_uri": "https://localhost:8080/"
        },
        "id": "_K6yXZPSGrhe",
        "outputId": "9893c5fe-ef86-4b24-a14b-31fd78f2ac09"
      },
      "execution_count": null,
      "outputs": [
        {
          "output_type": "execute_result",
          "data": {
            "text/plain": [
              "5       -13.875592\n",
              "6       -11.098332\n",
              "7       -10.010707\n",
              "8        -0.627431\n",
              "9        21.277588\n",
              "           ...    \n",
              "20023    -2.120402\n",
              "20026    -2.080268\n",
              "20028    15.580596\n",
              "20029     0.284944\n",
              "20030    -8.058198\n",
              "Length: 9952, dtype: float64"
            ]
          },
          "metadata": {},
          "execution_count": 19
        }
      ]
    },
    {
      "cell_type": "code",
      "source": [
        "sns.set(rc={'figure.figsize':(10, 10)})\n",
        "sns.histplot(linearized_likes_control,\n",
        "             color='b',\n",
        "             alpha=0.5,\n",
        "             kde=False);\n",
        "sns.histplot(linearized_likes_treat,\n",
        "             color='y',\n",
        "             alpha=0.5,\n",
        "             kde=False);\n",
        "plt.legend(labels=['Control group', 'Treatment group']);"
      ],
      "metadata": {
        "colab": {
          "base_uri": "https://localhost:8080/",
          "height": 594
        },
        "id": "4xrAHxxhIoyQ",
        "outputId": "134098bd-5545-4b4f-c15e-b77852cb49af"
      },
      "execution_count": null,
      "outputs": [
        {
          "output_type": "display_data",
          "data": {
            "text/plain": [
              "<Figure size 720x720 with 1 Axes>"
            ],
            "image/png": "[encoded data removed]"
          },
          "metadata": {}
        }
      ]
    },
    {
      "cell_type": "markdown",
      "source": [
        "**ttest**"
      ],
      "metadata": {
        "id": "Qx9zstbjBGEa"
      }
    },
    {
      "cell_type": "code",
      "source": [
        "st.ttest_ind(linearized_likes_control,\n",
        "             linearized_likes_treat,\n",
        "             equal_var=False)"
      ],
      "metadata": {
        "colab": {
          "base_uri": "https://localhost:8080/"
        },
        "id": "cAtR3o23Jw6p",
        "outputId": "62e8e7be-0e76-4863-c5aa-703d66695fb4"
      },
      "execution_count": null,
      "outputs": [
        {
          "output_type": "execute_result",
          "data": {
            "text/plain": [
              "Ttest_indResult(statistic=6.122579994775973, pvalue=9.439432187037712e-10)"
            ]
          },
          "metadata": {},
          "execution_count": 12
        }
      ]
    },
    {
      "cell_type": "markdown",
      "source": [
        "***Mann-Witney test***"
      ],
      "metadata": {
        "id": "nE9YnOycBH4I"
      }
    },
    {
      "cell_type": "code",
      "source": [
        "st.mannwhitneyu(linearized_likes_control, linearized_likes_treat, alternative='two-sided')"
      ],
      "metadata": {
        "colab": {
          "base_uri": "https://localhost:8080/"
        },
        "id": "Uv5l1biOBFaQ",
        "outputId": "76eef968-252d-4402-fc1e-55176a607156"
      },
      "execution_count": null,
      "outputs": [
        {
          "output_type": "execute_result",
          "data": {
            "text/plain": [
              "MannwhitneyuResult(statistic=54534537.0, pvalue=9.404319579641738e-27)"
            ]
          },
          "metadata": {},
          "execution_count": 13
        }
      ]
    },
    {
      "cell_type": "markdown",
      "source": [
        "### Обычный CTR для 1 и 2 групп"
      ],
      "metadata": {
        "id": "V55hTj75HGhl"
      }
    },
    {
      "cell_type": "code",
      "source": [
        "group_1 = df_12[df_12['exp_group'] == 1]['ctr'] # control group\n",
        "group_2 = df_12[df_12['exp_group'] == 2]['ctr'] # treatment group"
      ],
      "metadata": {
        "id": "ssbROhc0HLaj"
      },
      "execution_count": null,
      "outputs": []
    },
    {
      "cell_type": "code",
      "source": [
        "sns.histplot(group_1,\n",
        "             color='b',\n",
        "             alpha=0.5,\n",
        "             kde=False)\n",
        "sns.histplot(group_2,\n",
        "             color='y',\n",
        "             alpha=0.5,\n",
        "             kde=False)\n",
        "plt.legend(labels=['Control group', 'Treatment group']);"
      ],
      "metadata": {
        "colab": {
          "base_uri": "https://localhost:8080/",
          "height": 611
        },
        "id": "OdPWX27EHeQs",
        "outputId": "6cf5a665-25f2-4c62-bb37-3e8b620ad640"
      },
      "execution_count": null,
      "outputs": [
        {
          "output_type": "display_data",
          "data": {
            "text/plain": [
              "<Figure size 720x720 with 1 Axes>"
            ],
            "image/png": "[encoded data removed]"
          },
          "metadata": {}
        }
      ]
    },
    {
      "cell_type": "markdown",
      "source": [
        "**ttest**"
      ],
      "metadata": {
        "id": "R1U4UlW8Hr52"
      }
    },
    {
      "cell_type": "code",
      "source": [
        "st.ttest_ind(group_1,\n",
        "             group_2,\n",
        "             equal_var=False)"
      ],
      "metadata": {
        "colab": {
          "base_uri": "https://localhost:8080/"
        },
        "id": "vs_TsbToHsje",
        "outputId": "5ab5b122-109c-4ae5-e26a-3898d46d9f6f"
      },
      "execution_count": null,
      "outputs": [
        {
          "output_type": "execute_result",
          "data": {
            "text/plain": [
              "Ttest_indResult(statistic=0.7094392041270651, pvalue=0.47806231308748337)"
            ]
          },
          "metadata": {},
          "execution_count": 23
        }
      ]
    },
    {
      "cell_type": "markdown",
      "source": [
        "***Mann-Witney test***"
      ],
      "metadata": {
        "id": "WElZbMkSHyVe"
      }
    },
    {
      "cell_type": "code",
      "source": [
        "st.mannwhitneyu(group_1, group_2, alternative='two-sided')"
      ],
      "metadata": {
        "colab": {
          "base_uri": "https://localhost:8080/"
        },
        "id": "Ub0Lm6ijH1kP",
        "outputId": "7fbf4d0b-b429-4c67-df5a-c90c4c027bd9"
      },
      "execution_count": null,
      "outputs": [
        {
          "output_type": "execute_result",
          "data": {
            "text/plain": [
              "MannwhitneyuResult(statistic=56601260.5, pvalue=6.0376484617779035e-56)"
            ]
          },
          "metadata": {},
          "execution_count": 24
        }
      ]
    },
    {
      "cell_type": "markdown",
      "source": [
        "**Вывод** \\\n",
        "\n",
        "Линеаризованный ttest показывает стат. значимое различие между контрольной и тестовой группами, в отличие от обычного ttest'а. Поскольку после линеаризации распределения стали более похожими на нормальное, то применение в этом случае ttest'а корректно, и поюзерные CTR в группах действительно различаются. \\\n",
        "Тест Манна-Уитни так же, как и для обычного поюзерного CTR, показывает различие, но p-value увеличился. "
      ],
      "metadata": {
        "id": "DOrJdDqYA0nW"
      }
    },
    {
      "cell_type": "markdown",
      "source": [
        "### Линеаризованный CTR для 0 и 3 групп\n",
        "\n"
      ],
      "metadata": {
        "id": "jQjb6SwcIwSV"
      }
    },
    {
      "cell_type": "code",
      "source": [
        "q_03 = \"\"\"\n",
        "select user_id,\n",
        "exp_group, \n",
        "countIf(action='like') as likes,\n",
        "countIf(action='view') as views, \n",
        "likes / views as ctr\n",
        "from {db}.feed_actions\n",
        "where toDate(time) >= '2022-10-03' and toDate(time) <= '2022-10-09'\n",
        "and exp_group in (0, 3)\n",
        "group by exp_group, user_id\n",
        "\"\"\""
      ],
      "metadata": {
        "id": "TLxHJDYFIzjt"
      },
      "execution_count": null,
      "outputs": []
    },
    {
      "cell_type": "code",
      "source": [
        "df_03 = ph.read_clickhouse(q_03, connection=connection)\n",
        "df_03"
      ],
      "metadata": {
        "colab": {
          "base_uri": "https://localhost:8080/",
          "height": 424
        },
        "id": "-SZIn7X7I8Zu",
        "outputId": "317cc111-6f8e-4133-ab2c-ee8b4ab2def0"
      },
      "execution_count": null,
      "outputs": [
        {
          "output_type": "execute_result",
          "data": {
            "text/plain": [
              "       user_id  exp_group  likes  views       ctr\n",
              "0       115383          3      9     30  0.300000\n",
              "1       123580          3     13     48  0.270833\n",
              "2         4944          0      8     41  0.195122\n",
              "3         4504          0      5     15  0.333333\n",
              "4       121508          0     18     88  0.204545\n",
              "...        ...        ...    ...    ...       ...\n",
              "20043    13781          3     10     27  0.370370\n",
              "20044   130651          3     18     98  0.183673\n",
              "20045     3681          0      7     55  0.127273\n",
              "20046   122008          3      5     41  0.121951\n",
              "20047   122190          3     19     65  0.292308\n",
              "\n",
              "[20048 rows x 5 columns]"
            ],
            "text/html": [
              "\n",
              "  <div id=\"df-c6eee590-95c3-4ae0-9b3c-15ab902d9372\">\n",
              "    <div class=\"colab-df-container\">\n",
              "      <div>\n",
              "<style scoped>\n",
              "    .dataframe tbody tr th:only-of-type {\n",
              "        vertical-align: middle;\n",
              "    }\n",
              "\n",
              "    .dataframe tbody tr th {\n",
              "        vertical-align: top;\n",
              "    }\n",
              "\n",
              "    .dataframe thead th {\n",
              "        text-align: right;\n",
              "    }\n",
              "</style>\n",
              "<table border=\"1\" class=\"dataframe\">\n",
              "  <thead>\n",
              "    <tr style=\"text-align: right;\">\n",
              "      <th></th>\n",
              "      <th>user_id</th>\n",
              "      <th>exp_group</th>\n",
              "      <th>likes</th>\n",
              "      <th>views</th>\n",
              "      <th>ctr</th>\n",
              "    </tr>\n",
              "  </thead>\n",
              "  <tbody>\n",
              "    <tr>\n",
              "      <th>0</th>\n",
              "      <td>115383</td>\n",
              "      <td>3</td>\n",
              "      <td>9</td>\n",
              "      <td>30</td>\n",
              "      <td>0.300000</td>\n",
              "    </tr>\n",
              "    <tr>\n",
              "      <th>1</th>\n",
              "      <td>123580</td>\n",
              "      <td>3</td>\n",
              "      <td>13</td>\n",
              "      <td>48</td>\n",
              "      <td>0.270833</td>\n",
              "    </tr>\n",
              "    <tr>\n",
              "      <th>2</th>\n",
              "      <td>4944</td>\n",
              "      <td>0</td>\n",
              "      <td>8</td>\n",
              "      <td>41</td>\n",
              "      <td>0.195122</td>\n",
              "    </tr>\n",
              "    <tr>\n",
              "      <th>3</th>\n",
              "      <td>4504</td>\n",
              "      <td>0</td>\n",
              "      <td>5</td>\n",
              "      <td>15</td>\n",
              "      <td>0.333333</td>\n",
              "    </tr>\n",
              "    <tr>\n",
              "      <th>4</th>\n",
              "      <td>121508</td>\n",
              "      <td>0</td>\n",
              "      <td>18</td>\n",
              "      <td>88</td>\n",
              "      <td>0.204545</td>\n",
              "    </tr>\n",
              "    <tr>\n",
              "      <th>...</th>\n",
              "      <td>...</td>\n",
              "      <td>...</td>\n",
              "      <td>...</td>\n",
              "      <td>...</td>\n",
              "      <td>...</td>\n",
              "    </tr>\n",
              "    <tr>\n",
              "      <th>20043</th>\n",
              "      <td>13781</td>\n",
              "      <td>3</td>\n",
              "      <td>10</td>\n",
              "      <td>27</td>\n",
              "      <td>0.370370</td>\n",
              "    </tr>\n",
              "    <tr>\n",
              "      <th>20044</th>\n",
              "      <td>130651</td>\n",
              "      <td>3</td>\n",
              "      <td>18</td>\n",
              "      <td>98</td>\n",
              "      <td>0.183673</td>\n",
              "    </tr>\n",
              "    <tr>\n",
              "      <th>20045</th>\n",
              "      <td>3681</td>\n",
              "      <td>0</td>\n",
              "      <td>7</td>\n",
              "      <td>55</td>\n",
              "      <td>0.127273</td>\n",
              "    </tr>\n",
              "    <tr>\n",
              "      <th>20046</th>\n",
              "      <td>122008</td>\n",
              "      <td>3</td>\n",
              "      <td>5</td>\n",
              "      <td>41</td>\n",
              "      <td>0.121951</td>\n",
              "    </tr>\n",
              "    <tr>\n",
              "      <th>20047</th>\n",
              "      <td>122190</td>\n",
              "      <td>3</td>\n",
              "      <td>19</td>\n",
              "      <td>65</td>\n",
              "      <td>0.292308</td>\n",
              "    </tr>\n",
              "  </tbody>\n",
              "</table>\n",
              "<p>20048 rows × 5 columns</p>\n",
              "</div>\n",
              "      <button class=\"colab-df-convert\" onclick=\"convertToInteractive('df-c6eee590-95c3-4ae0-9b3c-15ab902d9372')\"\n",
              "              title=\"Convert this dataframe to an interactive table.\"\n",
              "              style=\"display:none;\">\n",
              "        \n",
              "  <svg xmlns=\"http://www.w3.org/2000/svg\" height=\"24px\"viewBox=\"0 0 24 24\"\n",
              "       width=\"24px\">\n",
              "    <path d=\"M0 0h24v24H0V0z\" fill=\"none\"/>\n",
              "    <path d=\"M18.56 5.44l.94 2.06.94-2.06 2.06-.94-2.06-.94-.94-2.06-.94 2.06-2.06.94zm-11 1L8.5 8.5l.94-2.06 2.06-.94-2.06-.94L8.5 2.5l-.94 2.06-2.06.94zm10 10l.94 2.06.94-2.06 2.06-.94-2.06-.94-.94-2.06-.94 2.06-2.06.94z\"/><path d=\"M17.41 7.96l-1.37-1.37c-.4-.4-.92-.59-1.43-.59-.52 0-1.04.2-1.43.59L10.3 9.45l-7.72 7.72c-.78.78-.78 2.05 0 2.83L4 21.41c.39.39.9.59 1.41.59.51 0 1.02-.2 1.41-.59l7.78-7.78 2.81-2.81c.8-.78.8-2.07 0-2.86zM5.41 20L4 18.59l7.72-7.72 1.47 1.35L5.41 20z\"/>\n",
              "  </svg>\n",
              "      </button>\n",
              "      \n",
              "  <style>\n",
              "    .colab-df-container {\n",
              "      display:flex;\n",
              "      flex-wrap:wrap;\n",
              "      gap: 12px;\n",
              "    }\n",
              "\n",
              "    .colab-df-convert {\n",
              "      background-color: #E8F0FE;\n",
              "      border: none;\n",
              "      border-radius: 50%;\n",
              "      cursor: pointer;\n",
              "      display: none;\n",
              "      fill: #1967D2;\n",
              "      height: 32px;\n",
              "      padding: 0 0 0 0;\n",
              "      width: 32px;\n",
              "    }\n",
              "\n",
              "    .colab-df-convert:hover {\n",
              "      background-color: #E2EBFA;\n",
              "      box-shadow: 0px 1px 2px rgba(60, 64, 67, 0.3), 0px 1px 3px 1px rgba(60, 64, 67, 0.15);\n",
              "      fill: #174EA6;\n",
              "    }\n",
              "\n",
              "    [theme=dark] .colab-df-convert {\n",
              "      background-color: #3B4455;\n",
              "      fill: #D2E3FC;\n",
              "    }\n",
              "\n",
              "    [theme=dark] .colab-df-convert:hover {\n",
              "      background-color: #434B5C;\n",
              "      box-shadow: 0px 1px 3px 1px rgba(0, 0, 0, 0.15);\n",
              "      filter: drop-shadow(0px 1px 2px rgba(0, 0, 0, 0.3));\n",
              "      fill: #FFFFFF;\n",
              "    }\n",
              "  </style>\n",
              "\n",
              "      <script>\n",
              "        const buttonEl =\n",
              "          document.querySelector('#df-c6eee590-95c3-4ae0-9b3c-15ab902d9372 button.colab-df-convert');\n",
              "        buttonEl.style.display =\n",
              "          google.colab.kernel.accessAllowed ? 'block' : 'none';\n",
              "\n",
              "        async function convertToInteractive(key) {\n",
              "          const element = document.querySelector('#df-c6eee590-95c3-4ae0-9b3c-15ab902d9372');\n",
              "          const dataTable =\n",
              "            await google.colab.kernel.invokeFunction('convertToInteractive',\n",
              "                                                     [key], {});\n",
              "          if (!dataTable) return;\n",
              "\n",
              "          const docLinkHtml = 'Like what you see? Visit the ' +\n",
              "            '<a target=\"_blank\" href=https://colab.research.google.com/notebooks/data_table.ipynb>data table notebook</a>'\n",
              "            + ' to learn more about interactive tables.';\n",
              "          element.innerHTML = '';\n",
              "          dataTable['output_type'] = 'display_data';\n",
              "          await google.colab.output.renderOutput(dataTable, element);\n",
              "          const docLink = document.createElement('div');\n",
              "          docLink.innerHTML = docLinkHtml;\n",
              "          element.appendChild(docLink);\n",
              "        }\n",
              "      </script>\n",
              "    </div>\n",
              "  </div>\n",
              "  "
            ]
          },
          "metadata": {},
          "execution_count": 30
        }
      ]
    },
    {
      "cell_type": "code",
      "source": [
        "global_ctr_control_0 = df_03[df_03['exp_group'] == 0]['likes'].sum() / df_03[df_03['exp_group'] == 0]['views'].sum()\n",
        "global_ctr_control_0"
      ],
      "metadata": {
        "colab": {
          "base_uri": "https://localhost:8080/"
        },
        "id": "dSU9ICwfJADo",
        "outputId": "e48d0cd9-45ff-4e09-d1c9-32aa761937c5"
      },
      "execution_count": null,
      "outputs": [
        {
          "output_type": "execute_result",
          "data": {
            "text/plain": [
              "0.20823612262916305"
            ]
          },
          "metadata": {},
          "execution_count": 31
        }
      ]
    },
    {
      "cell_type": "code",
      "source": [
        "linearized_likes_control_0 = lin_likes(df_03[df_03['exp_group'] == 0]['likes'],\n",
        "                                     df_03[df_03['exp_group'] == 0]['views'],\n",
        "                                     global_ctr_control)"
      ],
      "metadata": {
        "id": "dLIywNxtJPQ-"
      },
      "execution_count": null,
      "outputs": []
    },
    {
      "cell_type": "code",
      "source": [
        "linearized_likes_control_0"
      ],
      "metadata": {
        "colab": {
          "base_uri": "https://localhost:8080/"
        },
        "id": "RUVBhTBah5Fk",
        "outputId": "d02e03e0-55ce-4248-caca-f7e7c2a23731"
      },
      "execution_count": null,
      "outputs": [
        {
          "output_type": "execute_result",
          "data": {
            "text/plain": [
              "2        -0.529099\n",
              "3         1.879598\n",
              "4        -0.306359\n",
              "5         2.182606\n",
              "6        -1.882949\n",
              "           ...    \n",
              "20038    10.868891\n",
              "20039     0.854177\n",
              "20040    -0.521742\n",
              "20041    -0.113045\n",
              "20045    -4.441474\n",
              "Length: 9999, dtype: float64"
            ]
          },
          "metadata": {},
          "execution_count": 34
        }
      ]
    },
    {
      "cell_type": "code",
      "source": [
        "linearized_likes_treat_3 = lin_likes(df_03[df_03['exp_group'] == 3]['likes'],\n",
        "                                   df_03[df_03['exp_group'] == 3]['views'],\n",
        "                                   global_ctr_control)"
      ],
      "metadata": {
        "id": "8VKAUCxch6J4"
      },
      "execution_count": null,
      "outputs": []
    },
    {
      "cell_type": "code",
      "source": [
        "linearized_likes_treat_3"
      ],
      "metadata": {
        "colab": {
          "base_uri": "https://localhost:8080/"
        },
        "id": "zZe81vpIiT6k",
        "outputId": "893dc55b-f880-4957-d65e-64328bb514a4"
      },
      "execution_count": null,
      "outputs": [
        {
          "output_type": "execute_result",
          "data": {
            "text/plain": [
              "0         2.759196\n",
              "1         3.014713\n",
              "7         2.759196\n",
              "9        -6.882949\n",
              "10        0.332435\n",
              "           ...    \n",
              "20042   -11.189307\n",
              "20043     4.383276\n",
              "20044    -2.386627\n",
              "20046    -3.529099\n",
              "20047     5.478258\n",
              "Length: 10049, dtype: float64"
            ]
          },
          "metadata": {},
          "execution_count": 36
        }
      ]
    },
    {
      "cell_type": "code",
      "source": [
        "sns.histplot(linearized_likes_control_0,\n",
        "             color='b',\n",
        "             alpha=0.5,\n",
        "             kde=False);\n",
        "sns.histplot(linearized_likes_treat_3,\n",
        "             color='y',\n",
        "             alpha=0.5,\n",
        "             kde=False);\n",
        "plt.legend(labels=['Control group', 'Treatment group']);"
      ],
      "metadata": {
        "colab": {
          "base_uri": "https://localhost:8080/",
          "height": 594
        },
        "id": "0SwZaBCUiWB0",
        "outputId": "62312e66-3199-44b5-b174-4948ac872a1b"
      },
      "execution_count": null,
      "outputs": [
        {
          "output_type": "display_data",
          "data": {
            "text/plain": [
              "<Figure size 720x720 with 1 Axes>"
            ],
            "image/png": "[encoded data removed]"
          },
          "metadata": {}
        }
      ]
    },
    {
      "cell_type": "markdown",
      "source": [
        "**ttest**"
      ],
      "metadata": {
        "id": "2z660S1K3p-l"
      }
    },
    {
      "cell_type": "code",
      "source": [
        "st.ttest_ind(linearized_likes_control_0,\n",
        "             linearized_likes_treat_3,\n",
        "             equal_var=False)"
      ],
      "metadata": {
        "colab": {
          "base_uri": "https://localhost:8080/"
        },
        "id": "0IXamM803s5k",
        "outputId": "d839b9b4-ef8b-4559-c02f-f400f2405732"
      },
      "execution_count": null,
      "outputs": [
        {
          "output_type": "execute_result",
          "data": {
            "text/plain": [
              "Ttest_indResult(statistic=-15.216492682365711, pvalue=5.36858904410376e-52)"
            ]
          },
          "metadata": {},
          "execution_count": 39
        }
      ]
    },
    {
      "cell_type": "markdown",
      "source": [
        "***Mann-Witney test***"
      ],
      "metadata": {
        "id": "k92cime135Hy"
      }
    },
    {
      "cell_type": "code",
      "source": [
        "st.mannwhitneyu(linearized_likes_control_0, linearized_likes_treat_3, alternative='two-sided')"
      ],
      "metadata": {
        "colab": {
          "base_uri": "https://localhost:8080/"
        },
        "id": "zXYpd2FB32Eu",
        "outputId": "69b60088-7821-437e-f224-b95c80d1086c"
      },
      "execution_count": null,
      "outputs": [
        {
          "output_type": "execute_result",
          "data": {
            "text/plain": [
              "MannwhitneyuResult(statistic=43337306.0, pvalue=1.1042683226569279e-63)"
            ]
          },
          "metadata": {},
          "execution_count": 40
        }
      ]
    },
    {
      "cell_type": "markdown",
      "source": [
        "### Обычный CTR для 0 и 3 групп"
      ],
      "metadata": {
        "id": "xL2NErULilll"
      }
    },
    {
      "cell_type": "code",
      "source": [
        "group_0 = df_03[df_03['exp_group'] == 0]['ctr'] # control group\n",
        "group_3 = df_03[df_03['exp_group'] == 3]['ctr'] # treatment group"
      ],
      "metadata": {
        "id": "DmIGZWiCimfU"
      },
      "execution_count": null,
      "outputs": []
    },
    {
      "cell_type": "code",
      "source": [
        "sns.histplot(group_0,\n",
        "             color='b',\n",
        "             alpha=0.5,\n",
        "             kde=False);\n",
        "sns.histplot(group_3,\n",
        "             color='y',\n",
        "             alpha=0.5,\n",
        "             kde=False);\n",
        "plt.legend(labels=['Control group', 'Treatment group']);"
      ],
      "metadata": {
        "colab": {
          "base_uri": "https://localhost:8080/",
          "height": 611
        },
        "id": "XElzds-_imhB",
        "outputId": "e15e5acb-448b-4ed8-8535-ca213317cf58"
      },
      "execution_count": null,
      "outputs": [
        {
          "output_type": "display_data",
          "data": {
            "text/plain": [
              "<Figure size 720x720 with 1 Axes>"
            ],
            "image/png": "[encoded data removed]"
          },
          "metadata": {}
        }
      ]
    },
    {
      "cell_type": "markdown",
      "source": [
        "**ttest**"
      ],
      "metadata": {
        "id": "0aZz8xL14WaZ"
      }
    },
    {
      "cell_type": "code",
      "source": [
        "st.ttest_ind(group_0,\n",
        "             group_3,\n",
        "             equal_var=False)"
      ],
      "metadata": {
        "colab": {
          "base_uri": "https://localhost:8080/"
        },
        "id": "niLCpA1X4KKD",
        "outputId": "beece142-dc24-45d2-fe9f-d000e306b241"
      },
      "execution_count": null,
      "outputs": [
        {
          "output_type": "execute_result",
          "data": {
            "text/plain": [
              "Ttest_indResult(statistic=-13.896870721904069, pvalue=1.055849414662529e-43)"
            ]
          },
          "metadata": {},
          "execution_count": 42
        }
      ]
    },
    {
      "cell_type": "markdown",
      "source": [
        "***Mann-Witney test***"
      ],
      "metadata": {
        "id": "KYuwtmG_4Yxc"
      }
    },
    {
      "cell_type": "code",
      "source": [
        "st.mannwhitneyu(group_0, group_3, alternative='two-sided')"
      ],
      "metadata": {
        "colab": {
          "base_uri": "https://localhost:8080/"
        },
        "id": "lhduhTv84Ngi",
        "outputId": "0e9f820a-48ee-465c-b8f7-6e6981355ccc"
      },
      "execution_count": null,
      "outputs": [
        {
          "output_type": "execute_result",
          "data": {
            "text/plain": [
              "MannwhitneyuResult(statistic=43682792.0, pvalue=1.1952055473582936e-57)"
            ]
          },
          "metadata": {},
          "execution_count": 43
        }
      ]
    },
    {
      "cell_type": "markdown",
      "source": [
        "**Вывод:**\n",
        "\n",
        "Для групп 0 и 3 все тесты показывают стат. значимое различие. В случае линеаризованной метрики p-value уменьшился."
      ],
      "metadata": {
        "id": "yB1WIn2X4cpC"
      }
    },
    {
      "cell_type": "markdown",
      "source": [
        "### Заключение"
      ],
      "metadata": {
        "id": "1VBWEKaQErRa"
      }
    },
    {
      "cell_type": "markdown",
      "source": [
        "Таким образом, линеаризация позволила зафиксировать стат. значимое различие на выборке, неимеющей нормальное распределение, в случае групп 1 и 2. Также линеаризация снизила p-value для ttest'а и теста Манна-Уитни в случае 0 и 3 групп."
      ],
      "metadata": {
        "id": "WfQbd9HcEvh1"
      }
    }
  ]
}